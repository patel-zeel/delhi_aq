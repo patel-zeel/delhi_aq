{
 "cells": [
  {
   "cell_type": "code",
   "execution_count": 1,
   "metadata": {},
   "outputs": [],
   "source": [
    "import pandas as pd\n",
    "import geopandas as gpd\n",
    "\n",
    "import numpy as np\n",
    "import xarray as xr\n",
    "\n",
    "import matplotlib.pyplot as plt\n",
    "\n",
    "import plotly.express as px\n",
    "import plotly.io as pio"
   ]
  },
  {
   "cell_type": "code",
   "execution_count": 2,
   "metadata": {},
   "outputs": [
    {
     "name": "stderr",
     "output_type": "stream",
     "text": [
      "/tmp/ipykernel_3286569/1740613548.py:3: FutureWarning: Value based partial slicing on non-monotonic DatetimeIndexes with non-existing keys is deprecated and will raise a KeyError in a future Version.\n",
      "  df = df[\"2022-01-01\":\"2022-12-31\"].reset_index().sort_values(by=[\"time\", \"station\"])\n"
     ]
    },
    {
     "data": {
      "text/html": [
       "<div>\n",
       "<style scoped>\n",
       "    .dataframe tbody tr th:only-of-type {\n",
       "        vertical-align: middle;\n",
       "    }\n",
       "\n",
       "    .dataframe tbody tr th {\n",
       "        vertical-align: top;\n",
       "    }\n",
       "\n",
       "    .dataframe thead th {\n",
       "        text-align: right;\n",
       "    }\n",
       "</style>\n",
       "<table border=\"1\" class=\"dataframe\">\n",
       "  <thead>\n",
       "    <tr style=\"text-align: right;\">\n",
       "      <th></th>\n",
       "      <th>time</th>\n",
       "      <th>station</th>\n",
       "      <th>From Date</th>\n",
       "      <th>To Date</th>\n",
       "      <th>PM2.5</th>\n",
       "      <th>PM10</th>\n",
       "      <th>NO</th>\n",
       "      <th>NO2</th>\n",
       "      <th>NOx</th>\n",
       "      <th>NH3</th>\n",
       "      <th>...</th>\n",
       "      <th>RH</th>\n",
       "      <th>WS</th>\n",
       "      <th>WD</th>\n",
       "      <th>SR</th>\n",
       "      <th>BP</th>\n",
       "      <th>AT</th>\n",
       "      <th>RF</th>\n",
       "      <th>TOT-RF</th>\n",
       "      <th>latitude</th>\n",
       "      <th>longitude</th>\n",
       "    </tr>\n",
       "  </thead>\n",
       "  <tbody>\n",
       "    <tr>\n",
       "      <th>0</th>\n",
       "      <td>2022-01-01 00:30:00</td>\n",
       "      <td>Alipur, Delhi - DPCC</td>\n",
       "      <td>2022-01-01</td>\n",
       "      <td>2022-01-01 01:00:00</td>\n",
       "      <td>219.50</td>\n",
       "      <td>342.75</td>\n",
       "      <td>94.73</td>\n",
       "      <td>53.95</td>\n",
       "      <td>105.95</td>\n",
       "      <td>3.78</td>\n",
       "      <td>...</td>\n",
       "      <td>79.75</td>\n",
       "      <td>NaN</td>\n",
       "      <td>205.95</td>\n",
       "      <td>4.60</td>\n",
       "      <td>999.10</td>\n",
       "      <td>6.85</td>\n",
       "      <td>0.0</td>\n",
       "      <td>0.0</td>\n",
       "      <td>28.815329</td>\n",
       "      <td>77.153010</td>\n",
       "    </tr>\n",
       "    <tr>\n",
       "      <th>8760</th>\n",
       "      <td>2022-01-01 00:30:00</td>\n",
       "      <td>Anand Vihar, Delhi - DPCC</td>\n",
       "      <td>2022-01-01</td>\n",
       "      <td>2022-01-01 01:00:00</td>\n",
       "      <td>613.25</td>\n",
       "      <td>NaN</td>\n",
       "      <td>406.70</td>\n",
       "      <td>104.50</td>\n",
       "      <td>387.18</td>\n",
       "      <td>30.10</td>\n",
       "      <td>...</td>\n",
       "      <td>84.15</td>\n",
       "      <td>0.3</td>\n",
       "      <td>173.00</td>\n",
       "      <td>8.95</td>\n",
       "      <td>974.98</td>\n",
       "      <td>11.95</td>\n",
       "      <td>NaN</td>\n",
       "      <td>0.0</td>\n",
       "      <td>28.647622</td>\n",
       "      <td>77.315809</td>\n",
       "    </tr>\n",
       "  </tbody>\n",
       "</table>\n",
       "<p>2 rows × 25 columns</p>\n",
       "</div>"
      ],
      "text/plain": [
       "                    time                    station  From Date  \\\n",
       "0    2022-01-01 00:30:00       Alipur, Delhi - DPCC 2022-01-01   \n",
       "8760 2022-01-01 00:30:00  Anand Vihar, Delhi - DPCC 2022-01-01   \n",
       "\n",
       "                 To Date   PM2.5    PM10      NO     NO2     NOx    NH3  ...  \\\n",
       "0    2022-01-01 01:00:00  219.50  342.75   94.73   53.95  105.95   3.78  ...   \n",
       "8760 2022-01-01 01:00:00  613.25     NaN  406.70  104.50  387.18  30.10  ...   \n",
       "\n",
       "         RH   WS      WD    SR      BP     AT   RF  TOT-RF   latitude  \\\n",
       "0     79.75  NaN  205.95  4.60  999.10   6.85  0.0     0.0  28.815329   \n",
       "8760  84.15  0.3  173.00  8.95  974.98  11.95  NaN     0.0  28.647622   \n",
       "\n",
       "      longitude  \n",
       "0     77.153010  \n",
       "8760  77.315809  \n",
       "\n",
       "[2 rows x 25 columns]"
      ]
     },
     "execution_count": 2,
     "metadata": {},
     "output_type": "execute_result"
    }
   ],
   "source": [
    "data = xr.open_dataset(\"../data/delhi_cpcb_2022.nc\")\n",
    "df = data.to_dataframe().reset_index().set_index(\"time\")\n",
    "df = df[\"2022-01-01\":\"2022-12-31\"].reset_index().sort_values(by=[\"time\", \"station\"])\n",
    "df.head(2)"
   ]
  },
  {
   "cell_type": "code",
   "execution_count": 3,
   "metadata": {},
   "outputs": [
    {
     "data": {
      "text/html": [
       "<div>\n",
       "<style scoped>\n",
       "    .dataframe tbody tr th:only-of-type {\n",
       "        vertical-align: middle;\n",
       "    }\n",
       "\n",
       "    .dataframe tbody tr th {\n",
       "        vertical-align: top;\n",
       "    }\n",
       "\n",
       "    .dataframe thead th {\n",
       "        text-align: right;\n",
       "    }\n",
       "</style>\n",
       "<table border=\"1\" class=\"dataframe\">\n",
       "  <thead>\n",
       "    <tr style=\"text-align: right;\">\n",
       "      <th></th>\n",
       "      <th>station</th>\n",
       "      <th>latitude</th>\n",
       "      <th>longitude</th>\n",
       "    </tr>\n",
       "  </thead>\n",
       "  <tbody>\n",
       "    <tr>\n",
       "      <th>0</th>\n",
       "      <td>Alipur, Delhi - DPCC</td>\n",
       "      <td>28.815329</td>\n",
       "      <td>77.153010</td>\n",
       "    </tr>\n",
       "    <tr>\n",
       "      <th>8760</th>\n",
       "      <td>Anand Vihar, Delhi - DPCC</td>\n",
       "      <td>28.647622</td>\n",
       "      <td>77.315809</td>\n",
       "    </tr>\n",
       "    <tr>\n",
       "      <th>17520</th>\n",
       "      <td>Ashok Vihar, Delhi - DPCC</td>\n",
       "      <td>28.695381</td>\n",
       "      <td>77.181665</td>\n",
       "    </tr>\n",
       "    <tr>\n",
       "      <th>26280</th>\n",
       "      <td>Aya Nagar, Delhi - IMD</td>\n",
       "      <td>28.470691</td>\n",
       "      <td>77.109936</td>\n",
       "    </tr>\n",
       "    <tr>\n",
       "      <th>35040</th>\n",
       "      <td>Bawana, Delhi - DPCC</td>\n",
       "      <td>28.776200</td>\n",
       "      <td>77.051074</td>\n",
       "    </tr>\n",
       "    <tr>\n",
       "      <th>43800</th>\n",
       "      <td>Burari Crossing, Delhi - IMD</td>\n",
       "      <td>28.725650</td>\n",
       "      <td>77.201157</td>\n",
       "    </tr>\n",
       "    <tr>\n",
       "      <th>52560</th>\n",
       "      <td>CRRI Mathura Road, Delhi - IMD</td>\n",
       "      <td>28.551201</td>\n",
       "      <td>77.273574</td>\n",
       "    </tr>\n",
       "    <tr>\n",
       "      <th>61320</th>\n",
       "      <td>Chandni Chowk, Delhi - IITM</td>\n",
       "      <td>28.656756</td>\n",
       "      <td>77.227234</td>\n",
       "    </tr>\n",
       "    <tr>\n",
       "      <th>70080</th>\n",
       "      <td>DTU, Delhi - CPCB</td>\n",
       "      <td>28.750050</td>\n",
       "      <td>77.111261</td>\n",
       "    </tr>\n",
       "    <tr>\n",
       "      <th>78840</th>\n",
       "      <td>Dr. Karni Singh Shooting Range, Delhi - DPCC</td>\n",
       "      <td>28.498571</td>\n",
       "      <td>77.264840</td>\n",
       "    </tr>\n",
       "    <tr>\n",
       "      <th>87600</th>\n",
       "      <td>Dwarka-Sector 8, Delhi - DPCC</td>\n",
       "      <td>28.571027</td>\n",
       "      <td>77.071901</td>\n",
       "    </tr>\n",
       "    <tr>\n",
       "      <th>96360</th>\n",
       "      <td>East Arjun Nagar, Delhi - CPCB</td>\n",
       "      <td>28.655935</td>\n",
       "      <td>77.294904</td>\n",
       "    </tr>\n",
       "    <tr>\n",
       "      <th>105120</th>\n",
       "      <td>IGI Airport (T3), Delhi - IMD</td>\n",
       "      <td>28.562776</td>\n",
       "      <td>77.118005</td>\n",
       "    </tr>\n",
       "    <tr>\n",
       "      <th>113880</th>\n",
       "      <td>IHBAS, Dilshad Garden, Delhi - CPCB</td>\n",
       "      <td>28.681174</td>\n",
       "      <td>77.302523</td>\n",
       "    </tr>\n",
       "    <tr>\n",
       "      <th>122640</th>\n",
       "      <td>ITO, Delhi - CPCB</td>\n",
       "      <td>28.628624</td>\n",
       "      <td>77.241060</td>\n",
       "    </tr>\n",
       "    <tr>\n",
       "      <th>131400</th>\n",
       "      <td>Jahangirpuri, Delhi - DPCC</td>\n",
       "      <td>28.732820</td>\n",
       "      <td>77.170633</td>\n",
       "    </tr>\n",
       "    <tr>\n",
       "      <th>140160</th>\n",
       "      <td>Jawaharlal Nehru Stadium, Delhi - DPCC</td>\n",
       "      <td>28.580280</td>\n",
       "      <td>77.233829</td>\n",
       "    </tr>\n",
       "    <tr>\n",
       "      <th>148920</th>\n",
       "      <td>Lodhi Road, Delhi - IITM</td>\n",
       "      <td>28.588333</td>\n",
       "      <td>77.221667</td>\n",
       "    </tr>\n",
       "    <tr>\n",
       "      <th>157680</th>\n",
       "      <td>Lodhi Road, Delhi - IMD</td>\n",
       "      <td>28.591825</td>\n",
       "      <td>77.227307</td>\n",
       "    </tr>\n",
       "    <tr>\n",
       "      <th>166440</th>\n",
       "      <td>Major Dhyan Chand National Stadium, Delhi - DPCC</td>\n",
       "      <td>28.611281</td>\n",
       "      <td>77.237738</td>\n",
       "    </tr>\n",
       "    <tr>\n",
       "      <th>175200</th>\n",
       "      <td>Mandir Marg, Delhi - DPCC</td>\n",
       "      <td>28.636429</td>\n",
       "      <td>77.201067</td>\n",
       "    </tr>\n",
       "    <tr>\n",
       "      <th>183960</th>\n",
       "      <td>Mundka, Delhi - DPCC</td>\n",
       "      <td>28.684678</td>\n",
       "      <td>77.076574</td>\n",
       "    </tr>\n",
       "    <tr>\n",
       "      <th>192720</th>\n",
       "      <td>NSIT Dwarka, Delhi - CPCB</td>\n",
       "      <td>28.609090</td>\n",
       "      <td>77.032541</td>\n",
       "    </tr>\n",
       "    <tr>\n",
       "      <th>201480</th>\n",
       "      <td>Najafgarh, Delhi - DPCC</td>\n",
       "      <td>28.570173</td>\n",
       "      <td>76.933762</td>\n",
       "    </tr>\n",
       "    <tr>\n",
       "      <th>210240</th>\n",
       "      <td>Narela, Delhi - DPCC</td>\n",
       "      <td>28.822836</td>\n",
       "      <td>77.101981</td>\n",
       "    </tr>\n",
       "    <tr>\n",
       "      <th>219000</th>\n",
       "      <td>Nehru Nagar, Delhi - DPCC</td>\n",
       "      <td>28.567890</td>\n",
       "      <td>77.250515</td>\n",
       "    </tr>\n",
       "    <tr>\n",
       "      <th>227760</th>\n",
       "      <td>North Campus, DU, Delhi - IMD</td>\n",
       "      <td>28.657381</td>\n",
       "      <td>77.158545</td>\n",
       "    </tr>\n",
       "    <tr>\n",
       "      <th>236520</th>\n",
       "      <td>Okhla Phase-2, Delhi - DPCC</td>\n",
       "      <td>28.530785</td>\n",
       "      <td>77.271255</td>\n",
       "    </tr>\n",
       "    <tr>\n",
       "      <th>245280</th>\n",
       "      <td>Patparganj, Delhi - DPCC</td>\n",
       "      <td>28.623763</td>\n",
       "      <td>77.287209</td>\n",
       "    </tr>\n",
       "    <tr>\n",
       "      <th>254040</th>\n",
       "      <td>Punjabi Bagh, Delhi - DPCC</td>\n",
       "      <td>28.674045</td>\n",
       "      <td>77.131023</td>\n",
       "    </tr>\n",
       "    <tr>\n",
       "      <th>262800</th>\n",
       "      <td>Pusa, Delhi - DPCC</td>\n",
       "      <td>28.639645</td>\n",
       "      <td>77.146262</td>\n",
       "    </tr>\n",
       "    <tr>\n",
       "      <th>271560</th>\n",
       "      <td>Pusa, Delhi - IMD</td>\n",
       "      <td>28.639645</td>\n",
       "      <td>77.146263</td>\n",
       "    </tr>\n",
       "    <tr>\n",
       "      <th>280320</th>\n",
       "      <td>R K Puram, Delhi - DPCC</td>\n",
       "      <td>28.563262</td>\n",
       "      <td>77.186937</td>\n",
       "    </tr>\n",
       "    <tr>\n",
       "      <th>289080</th>\n",
       "      <td>Rohini, Delhi - DPCC</td>\n",
       "      <td>28.732528</td>\n",
       "      <td>77.119920</td>\n",
       "    </tr>\n",
       "    <tr>\n",
       "      <th>297840</th>\n",
       "      <td>Shadipur, Delhi - CPCB</td>\n",
       "      <td>28.651478</td>\n",
       "      <td>77.147311</td>\n",
       "    </tr>\n",
       "    <tr>\n",
       "      <th>306600</th>\n",
       "      <td>Sirifort, Delhi - CPCB</td>\n",
       "      <td>28.550425</td>\n",
       "      <td>77.215938</td>\n",
       "    </tr>\n",
       "    <tr>\n",
       "      <th>315360</th>\n",
       "      <td>Sonia Vihar, Delhi - DPCC</td>\n",
       "      <td>28.710508</td>\n",
       "      <td>77.249485</td>\n",
       "    </tr>\n",
       "    <tr>\n",
       "      <th>324120</th>\n",
       "      <td>Sri Aurobindo Marg, Delhi - DPCC</td>\n",
       "      <td>28.531346</td>\n",
       "      <td>77.190156</td>\n",
       "    </tr>\n",
       "    <tr>\n",
       "      <th>332880</th>\n",
       "      <td>Vivek Vihar, Delhi - DPCC</td>\n",
       "      <td>28.672342</td>\n",
       "      <td>77.315260</td>\n",
       "    </tr>\n",
       "    <tr>\n",
       "      <th>341640</th>\n",
       "      <td>Wazirpur, Delhi - DPCC</td>\n",
       "      <td>28.699793</td>\n",
       "      <td>77.165453</td>\n",
       "    </tr>\n",
       "  </tbody>\n",
       "</table>\n",
       "</div>"
      ],
      "text/plain": [
       "                                                 station   latitude  longitude\n",
       "0                                   Alipur, Delhi - DPCC  28.815329  77.153010\n",
       "8760                           Anand Vihar, Delhi - DPCC  28.647622  77.315809\n",
       "17520                          Ashok Vihar, Delhi - DPCC  28.695381  77.181665\n",
       "26280                             Aya Nagar, Delhi - IMD  28.470691  77.109936\n",
       "35040                               Bawana, Delhi - DPCC  28.776200  77.051074\n",
       "43800                       Burari Crossing, Delhi - IMD  28.725650  77.201157\n",
       "52560                     CRRI Mathura Road, Delhi - IMD  28.551201  77.273574\n",
       "61320                        Chandni Chowk, Delhi - IITM  28.656756  77.227234\n",
       "70080                                  DTU, Delhi - CPCB  28.750050  77.111261\n",
       "78840       Dr. Karni Singh Shooting Range, Delhi - DPCC  28.498571  77.264840\n",
       "87600                     Dwarka-Sector 8, Delhi - DPCC   28.571027  77.071901\n",
       "96360                     East Arjun Nagar, Delhi - CPCB  28.655935  77.294904\n",
       "105120                     IGI Airport (T3), Delhi - IMD  28.562776  77.118005\n",
       "113880               IHBAS, Dilshad Garden, Delhi - CPCB  28.681174  77.302523\n",
       "122640                                 ITO, Delhi - CPCB  28.628624  77.241060\n",
       "131400                        Jahangirpuri, Delhi - DPCC  28.732820  77.170633\n",
       "140160            Jawaharlal Nehru Stadium, Delhi - DPCC  28.580280  77.233829\n",
       "148920                          Lodhi Road, Delhi - IITM  28.588333  77.221667\n",
       "157680                           Lodhi Road, Delhi - IMD  28.591825  77.227307\n",
       "166440  Major Dhyan Chand National Stadium, Delhi - DPCC  28.611281  77.237738\n",
       "175200                         Mandir Marg, Delhi - DPCC  28.636429  77.201067\n",
       "183960                              Mundka, Delhi - DPCC  28.684678  77.076574\n",
       "192720                         NSIT Dwarka, Delhi - CPCB  28.609090  77.032541\n",
       "201480                           Najafgarh, Delhi - DPCC  28.570173  76.933762\n",
       "210240                              Narela, Delhi - DPCC  28.822836  77.101981\n",
       "219000                         Nehru Nagar, Delhi - DPCC  28.567890  77.250515\n",
       "227760                     North Campus, DU, Delhi - IMD  28.657381  77.158545\n",
       "236520                       Okhla Phase-2, Delhi - DPCC  28.530785  77.271255\n",
       "245280                          Patparganj, Delhi - DPCC  28.623763  77.287209\n",
       "254040                        Punjabi Bagh, Delhi - DPCC  28.674045  77.131023\n",
       "262800                                Pusa, Delhi - DPCC  28.639645  77.146262\n",
       "271560                                 Pusa, Delhi - IMD  28.639645  77.146263\n",
       "280320                           R K Puram, Delhi - DPCC  28.563262  77.186937\n",
       "289080                              Rohini, Delhi - DPCC  28.732528  77.119920\n",
       "297840                            Shadipur, Delhi - CPCB  28.651478  77.147311\n",
       "306600                            Sirifort, Delhi - CPCB  28.550425  77.215938\n",
       "315360                         Sonia Vihar, Delhi - DPCC  28.710508  77.249485\n",
       "324120                  Sri Aurobindo Marg, Delhi - DPCC  28.531346  77.190156\n",
       "332880                         Vivek Vihar, Delhi - DPCC  28.672342  77.315260\n",
       "341640                            Wazirpur, Delhi - DPCC  28.699793  77.165453"
      ]
     },
     "execution_count": 3,
     "metadata": {},
     "output_type": "execute_result"
    }
   ],
   "source": [
    "stations_df = df.drop_duplicates(subset=[\"station\"])[[\"station\", \"latitude\", \"longitude\"]]\n",
    "stations_df"
   ]
  },
  {
   "attachments": {},
   "cell_type": "markdown",
   "metadata": {},
   "source": [
    "## Plot spatial map of stations"
   ]
  },
  {
   "cell_type": "code",
   "execution_count": 22,
   "metadata": {},
   "outputs": [
    {
     "data": {
      "application/vnd.plotly.v1+json": {
       "config": {
        "plotlyServerURL": "https://plot.ly"
       },
       "data": [
        {
         "customdata": [
          [
           "Alipur, Delhi - DPCC"
          ],
          [
           "Anand Vihar, Delhi - DPCC"
          ],
          [
           "Ashok Vihar, Delhi - DPCC"
          ],
          [
           "Aya Nagar, Delhi - IMD"
          ],
          [
           "Bawana, Delhi - DPCC"
          ],
          [
           "Burari Crossing, Delhi - IMD"
          ],
          [
           "CRRI Mathura Road, Delhi - IMD"
          ],
          [
           "Chandni Chowk, Delhi - IITM"
          ],
          [
           "DTU, Delhi - CPCB"
          ],
          [
           "Dr. Karni Singh Shooting Range, Delhi - DPCC"
          ],
          [
           "Dwarka-Sector 8, Delhi - DPCC "
          ],
          [
           "East Arjun Nagar, Delhi - CPCB"
          ],
          [
           "IGI Airport (T3), Delhi - IMD"
          ],
          [
           "IHBAS, Dilshad Garden, Delhi - CPCB"
          ],
          [
           "ITO, Delhi - CPCB"
          ],
          [
           "Jahangirpuri, Delhi - DPCC"
          ],
          [
           "Jawaharlal Nehru Stadium, Delhi - DPCC"
          ],
          [
           "Lodhi Road, Delhi - IITM"
          ],
          [
           "Lodhi Road, Delhi - IMD"
          ],
          [
           "Major Dhyan Chand National Stadium, Delhi - DPCC"
          ],
          [
           "Mandir Marg, Delhi - DPCC"
          ],
          [
           "Mundka, Delhi - DPCC"
          ],
          [
           "NSIT Dwarka, Delhi - CPCB"
          ],
          [
           "Najafgarh, Delhi - DPCC"
          ],
          [
           "Narela, Delhi - DPCC"
          ],
          [
           "Nehru Nagar, Delhi - DPCC"
          ],
          [
           "North Campus, DU, Delhi - IMD"
          ],
          [
           "Okhla Phase-2, Delhi - DPCC"
          ],
          [
           "Patparganj, Delhi - DPCC"
          ],
          [
           "Punjabi Bagh, Delhi - DPCC"
          ],
          [
           "Pusa, Delhi - DPCC"
          ],
          [
           "Pusa, Delhi - IMD"
          ],
          [
           "R K Puram, Delhi - DPCC"
          ],
          [
           "Rohini, Delhi - DPCC"
          ],
          [
           "Shadipur, Delhi - CPCB"
          ],
          [
           "Sirifort, Delhi - CPCB"
          ],
          [
           "Sonia Vihar, Delhi - DPCC"
          ],
          [
           "Sri Aurobindo Marg, Delhi - DPCC"
          ],
          [
           "Vivek Vihar, Delhi - DPCC"
          ],
          [
           "Wazirpur, Delhi - DPCC"
          ]
         ],
         "hovertemplate": "<b>%{hovertext}</b><br><br>latitude=%{lat}<br>longitude=%{lon}<br>station=%{customdata[0]}<extra></extra>",
         "hovertext": [
          "Alipur, Delhi - DPCC",
          "Anand Vihar, Delhi - DPCC",
          "Ashok Vihar, Delhi - DPCC",
          "Aya Nagar, Delhi - IMD",
          "Bawana, Delhi - DPCC",
          "Burari Crossing, Delhi - IMD",
          "CRRI Mathura Road, Delhi - IMD",
          "Chandni Chowk, Delhi - IITM",
          "DTU, Delhi - CPCB",
          "Dr. Karni Singh Shooting Range, Delhi - DPCC",
          "Dwarka-Sector 8, Delhi - DPCC ",
          "East Arjun Nagar, Delhi - CPCB",
          "IGI Airport (T3), Delhi - IMD",
          "IHBAS, Dilshad Garden, Delhi - CPCB",
          "ITO, Delhi - CPCB",
          "Jahangirpuri, Delhi - DPCC",
          "Jawaharlal Nehru Stadium, Delhi - DPCC",
          "Lodhi Road, Delhi - IITM",
          "Lodhi Road, Delhi - IMD",
          "Major Dhyan Chand National Stadium, Delhi - DPCC",
          "Mandir Marg, Delhi - DPCC",
          "Mundka, Delhi - DPCC",
          "NSIT Dwarka, Delhi - CPCB",
          "Najafgarh, Delhi - DPCC",
          "Narela, Delhi - DPCC",
          "Nehru Nagar, Delhi - DPCC",
          "North Campus, DU, Delhi - IMD",
          "Okhla Phase-2, Delhi - DPCC",
          "Patparganj, Delhi - DPCC",
          "Punjabi Bagh, Delhi - DPCC",
          "Pusa, Delhi - DPCC",
          "Pusa, Delhi - IMD",
          "R K Puram, Delhi - DPCC",
          "Rohini, Delhi - DPCC",
          "Shadipur, Delhi - CPCB",
          "Sirifort, Delhi - CPCB",
          "Sonia Vihar, Delhi - DPCC",
          "Sri Aurobindo Marg, Delhi - DPCC",
          "Vivek Vihar, Delhi - DPCC",
          "Wazirpur, Delhi - DPCC"
         ],
         "lat": [
          28.815329,
          28.647622,
          28.695381,
          28.4706914,
          28.7762,
          28.7256504,
          28.5512005,
          28.656756,
          28.7500499,
          28.498571,
          28.5710274,
          28.655935,
          28.5627763,
          28.6811736,
          28.628624,
          28.73282,
          28.58028,
          28.588333,
          28.5918245,
          28.611281,
          28.636429,
          28.684678,
          28.60909,
          28.570173,
          28.822836,
          28.56789,
          28.6573814,
          28.530785,
          28.623763,
          28.674045,
          28.639645,
          28.639645,
          28.563262,
          28.732528,
          28.6514781,
          28.5504249,
          28.710508,
          28.531346,
          28.672342,
          28.699793
         ],
         "legendgroup": "",
         "lon": [
          77.15301,
          77.315809,
          77.181665,
          77.1099364,
          77.051074,
          77.2011573,
          77.2735737,
          77.227234,
          77.1112615,
          77.26484,
          77.0719006,
          77.294904,
          77.1180053,
          77.3025234,
          77.24106,
          77.170633,
          77.233829,
          77.221667,
          77.2273074,
          77.237738,
          77.201067,
          77.076574,
          77.0325413,
          76.933762,
          77.101981,
          77.250515,
          77.1585447,
          77.271255,
          77.287209,
          77.131023,
          77.146262,
          77.146263,
          77.186937,
          77.11992,
          77.1473105,
          77.2159377,
          77.249485,
          77.190156,
          77.31526,
          77.165453
         ],
         "marker": {
          "color": "#636efa"
         },
         "mode": "markers",
         "name": "",
         "showlegend": false,
         "subplot": "mapbox",
         "type": "scattermapbox"
        }
       ],
       "layout": {
        "height": 800,
        "legend": {
         "tracegroupgap": 0
        },
        "mapbox": {
         "center": {
          "lat": 28.7041,
          "lon": 77.1025
         },
         "domain": {
          "x": [
           0,
           1
          ],
          "y": [
           0,
           1
          ]
         },
         "style": "carto-positron",
         "zoom": 8
        },
        "template": {
         "data": {
          "bar": [
           {
            "error_x": {
             "color": "#2a3f5f"
            },
            "error_y": {
             "color": "#2a3f5f"
            },
            "marker": {
             "line": {
              "color": "#E5ECF6",
              "width": 0.5
             },
             "pattern": {
              "fillmode": "overlay",
              "size": 10,
              "solidity": 0.2
             }
            },
            "type": "bar"
           }
          ],
          "barpolar": [
           {
            "marker": {
             "line": {
              "color": "#E5ECF6",
              "width": 0.5
             },
             "pattern": {
              "fillmode": "overlay",
              "size": 10,
              "solidity": 0.2
             }
            },
            "type": "barpolar"
           }
          ],
          "carpet": [
           {
            "aaxis": {
             "endlinecolor": "#2a3f5f",
             "gridcolor": "white",
             "linecolor": "white",
             "minorgridcolor": "white",
             "startlinecolor": "#2a3f5f"
            },
            "baxis": {
             "endlinecolor": "#2a3f5f",
             "gridcolor": "white",
             "linecolor": "white",
             "minorgridcolor": "white",
             "startlinecolor": "#2a3f5f"
            },
            "type": "carpet"
           }
          ],
          "choropleth": [
           {
            "colorbar": {
             "outlinewidth": 0,
             "ticks": ""
            },
            "type": "choropleth"
           }
          ],
          "contour": [
           {
            "colorbar": {
             "outlinewidth": 0,
             "ticks": ""
            },
            "colorscale": [
             [
              0,
              "#0d0887"
             ],
             [
              0.1111111111111111,
              "#46039f"
             ],
             [
              0.2222222222222222,
              "#7201a8"
             ],
             [
              0.3333333333333333,
              "#9c179e"
             ],
             [
              0.4444444444444444,
              "#bd3786"
             ],
             [
              0.5555555555555556,
              "#d8576b"
             ],
             [
              0.6666666666666666,
              "#ed7953"
             ],
             [
              0.7777777777777778,
              "#fb9f3a"
             ],
             [
              0.8888888888888888,
              "#fdca26"
             ],
             [
              1,
              "#f0f921"
             ]
            ],
            "type": "contour"
           }
          ],
          "contourcarpet": [
           {
            "colorbar": {
             "outlinewidth": 0,
             "ticks": ""
            },
            "type": "contourcarpet"
           }
          ],
          "heatmap": [
           {
            "colorbar": {
             "outlinewidth": 0,
             "ticks": ""
            },
            "colorscale": [
             [
              0,
              "#0d0887"
             ],
             [
              0.1111111111111111,
              "#46039f"
             ],
             [
              0.2222222222222222,
              "#7201a8"
             ],
             [
              0.3333333333333333,
              "#9c179e"
             ],
             [
              0.4444444444444444,
              "#bd3786"
             ],
             [
              0.5555555555555556,
              "#d8576b"
             ],
             [
              0.6666666666666666,
              "#ed7953"
             ],
             [
              0.7777777777777778,
              "#fb9f3a"
             ],
             [
              0.8888888888888888,
              "#fdca26"
             ],
             [
              1,
              "#f0f921"
             ]
            ],
            "type": "heatmap"
           }
          ],
          "heatmapgl": [
           {
            "colorbar": {
             "outlinewidth": 0,
             "ticks": ""
            },
            "colorscale": [
             [
              0,
              "#0d0887"
             ],
             [
              0.1111111111111111,
              "#46039f"
             ],
             [
              0.2222222222222222,
              "#7201a8"
             ],
             [
              0.3333333333333333,
              "#9c179e"
             ],
             [
              0.4444444444444444,
              "#bd3786"
             ],
             [
              0.5555555555555556,
              "#d8576b"
             ],
             [
              0.6666666666666666,
              "#ed7953"
             ],
             [
              0.7777777777777778,
              "#fb9f3a"
             ],
             [
              0.8888888888888888,
              "#fdca26"
             ],
             [
              1,
              "#f0f921"
             ]
            ],
            "type": "heatmapgl"
           }
          ],
          "histogram": [
           {
            "marker": {
             "pattern": {
              "fillmode": "overlay",
              "size": 10,
              "solidity": 0.2
             }
            },
            "type": "histogram"
           }
          ],
          "histogram2d": [
           {
            "colorbar": {
             "outlinewidth": 0,
             "ticks": ""
            },
            "colorscale": [
             [
              0,
              "#0d0887"
             ],
             [
              0.1111111111111111,
              "#46039f"
             ],
             [
              0.2222222222222222,
              "#7201a8"
             ],
             [
              0.3333333333333333,
              "#9c179e"
             ],
             [
              0.4444444444444444,
              "#bd3786"
             ],
             [
              0.5555555555555556,
              "#d8576b"
             ],
             [
              0.6666666666666666,
              "#ed7953"
             ],
             [
              0.7777777777777778,
              "#fb9f3a"
             ],
             [
              0.8888888888888888,
              "#fdca26"
             ],
             [
              1,
              "#f0f921"
             ]
            ],
            "type": "histogram2d"
           }
          ],
          "histogram2dcontour": [
           {
            "colorbar": {
             "outlinewidth": 0,
             "ticks": ""
            },
            "colorscale": [
             [
              0,
              "#0d0887"
             ],
             [
              0.1111111111111111,
              "#46039f"
             ],
             [
              0.2222222222222222,
              "#7201a8"
             ],
             [
              0.3333333333333333,
              "#9c179e"
             ],
             [
              0.4444444444444444,
              "#bd3786"
             ],
             [
              0.5555555555555556,
              "#d8576b"
             ],
             [
              0.6666666666666666,
              "#ed7953"
             ],
             [
              0.7777777777777778,
              "#fb9f3a"
             ],
             [
              0.8888888888888888,
              "#fdca26"
             ],
             [
              1,
              "#f0f921"
             ]
            ],
            "type": "histogram2dcontour"
           }
          ],
          "mesh3d": [
           {
            "colorbar": {
             "outlinewidth": 0,
             "ticks": ""
            },
            "type": "mesh3d"
           }
          ],
          "parcoords": [
           {
            "line": {
             "colorbar": {
              "outlinewidth": 0,
              "ticks": ""
             }
            },
            "type": "parcoords"
           }
          ],
          "pie": [
           {
            "automargin": true,
            "type": "pie"
           }
          ],
          "scatter": [
           {
            "fillpattern": {
             "fillmode": "overlay",
             "size": 10,
             "solidity": 0.2
            },
            "type": "scatter"
           }
          ],
          "scatter3d": [
           {
            "line": {
             "colorbar": {
              "outlinewidth": 0,
              "ticks": ""
             }
            },
            "marker": {
             "colorbar": {
              "outlinewidth": 0,
              "ticks": ""
             }
            },
            "type": "scatter3d"
           }
          ],
          "scattercarpet": [
           {
            "marker": {
             "colorbar": {
              "outlinewidth": 0,
              "ticks": ""
             }
            },
            "type": "scattercarpet"
           }
          ],
          "scattergeo": [
           {
            "marker": {
             "colorbar": {
              "outlinewidth": 0,
              "ticks": ""
             }
            },
            "type": "scattergeo"
           }
          ],
          "scattergl": [
           {
            "marker": {
             "colorbar": {
              "outlinewidth": 0,
              "ticks": ""
             }
            },
            "type": "scattergl"
           }
          ],
          "scattermapbox": [
           {
            "marker": {
             "colorbar": {
              "outlinewidth": 0,
              "ticks": ""
             }
            },
            "type": "scattermapbox"
           }
          ],
          "scatterpolar": [
           {
            "marker": {
             "colorbar": {
              "outlinewidth": 0,
              "ticks": ""
             }
            },
            "type": "scatterpolar"
           }
          ],
          "scatterpolargl": [
           {
            "marker": {
             "colorbar": {
              "outlinewidth": 0,
              "ticks": ""
             }
            },
            "type": "scatterpolargl"
           }
          ],
          "scatterternary": [
           {
            "marker": {
             "colorbar": {
              "outlinewidth": 0,
              "ticks": ""
             }
            },
            "type": "scatterternary"
           }
          ],
          "surface": [
           {
            "colorbar": {
             "outlinewidth": 0,
             "ticks": ""
            },
            "colorscale": [
             [
              0,
              "#0d0887"
             ],
             [
              0.1111111111111111,
              "#46039f"
             ],
             [
              0.2222222222222222,
              "#7201a8"
             ],
             [
              0.3333333333333333,
              "#9c179e"
             ],
             [
              0.4444444444444444,
              "#bd3786"
             ],
             [
              0.5555555555555556,
              "#d8576b"
             ],
             [
              0.6666666666666666,
              "#ed7953"
             ],
             [
              0.7777777777777778,
              "#fb9f3a"
             ],
             [
              0.8888888888888888,
              "#fdca26"
             ],
             [
              1,
              "#f0f921"
             ]
            ],
            "type": "surface"
           }
          ],
          "table": [
           {
            "cells": {
             "fill": {
              "color": "#EBF0F8"
             },
             "line": {
              "color": "white"
             }
            },
            "header": {
             "fill": {
              "color": "#C8D4E3"
             },
             "line": {
              "color": "white"
             }
            },
            "type": "table"
           }
          ]
         },
         "layout": {
          "annotationdefaults": {
           "arrowcolor": "#2a3f5f",
           "arrowhead": 0,
           "arrowwidth": 1
          },
          "autotypenumbers": "strict",
          "coloraxis": {
           "colorbar": {
            "outlinewidth": 0,
            "ticks": ""
           }
          },
          "colorscale": {
           "diverging": [
            [
             0,
             "#8e0152"
            ],
            [
             0.1,
             "#c51b7d"
            ],
            [
             0.2,
             "#de77ae"
            ],
            [
             0.3,
             "#f1b6da"
            ],
            [
             0.4,
             "#fde0ef"
            ],
            [
             0.5,
             "#f7f7f7"
            ],
            [
             0.6,
             "#e6f5d0"
            ],
            [
             0.7,
             "#b8e186"
            ],
            [
             0.8,
             "#7fbc41"
            ],
            [
             0.9,
             "#4d9221"
            ],
            [
             1,
             "#276419"
            ]
           ],
           "sequential": [
            [
             0,
             "#0d0887"
            ],
            [
             0.1111111111111111,
             "#46039f"
            ],
            [
             0.2222222222222222,
             "#7201a8"
            ],
            [
             0.3333333333333333,
             "#9c179e"
            ],
            [
             0.4444444444444444,
             "#bd3786"
            ],
            [
             0.5555555555555556,
             "#d8576b"
            ],
            [
             0.6666666666666666,
             "#ed7953"
            ],
            [
             0.7777777777777778,
             "#fb9f3a"
            ],
            [
             0.8888888888888888,
             "#fdca26"
            ],
            [
             1,
             "#f0f921"
            ]
           ],
           "sequentialminus": [
            [
             0,
             "#0d0887"
            ],
            [
             0.1111111111111111,
             "#46039f"
            ],
            [
             0.2222222222222222,
             "#7201a8"
            ],
            [
             0.3333333333333333,
             "#9c179e"
            ],
            [
             0.4444444444444444,
             "#bd3786"
            ],
            [
             0.5555555555555556,
             "#d8576b"
            ],
            [
             0.6666666666666666,
             "#ed7953"
            ],
            [
             0.7777777777777778,
             "#fb9f3a"
            ],
            [
             0.8888888888888888,
             "#fdca26"
            ],
            [
             1,
             "#f0f921"
            ]
           ]
          },
          "colorway": [
           "#636efa",
           "#EF553B",
           "#00cc96",
           "#ab63fa",
           "#FFA15A",
           "#19d3f3",
           "#FF6692",
           "#B6E880",
           "#FF97FF",
           "#FECB52"
          ],
          "font": {
           "color": "#2a3f5f"
          },
          "geo": {
           "bgcolor": "white",
           "lakecolor": "white",
           "landcolor": "#E5ECF6",
           "showlakes": true,
           "showland": true,
           "subunitcolor": "white"
          },
          "hoverlabel": {
           "align": "left"
          },
          "hovermode": "closest",
          "mapbox": {
           "style": "light"
          },
          "paper_bgcolor": "white",
          "plot_bgcolor": "#E5ECF6",
          "polar": {
           "angularaxis": {
            "gridcolor": "white",
            "linecolor": "white",
            "ticks": ""
           },
           "bgcolor": "#E5ECF6",
           "radialaxis": {
            "gridcolor": "white",
            "linecolor": "white",
            "ticks": ""
           }
          },
          "scene": {
           "xaxis": {
            "backgroundcolor": "#E5ECF6",
            "gridcolor": "white",
            "gridwidth": 2,
            "linecolor": "white",
            "showbackground": true,
            "ticks": "",
            "zerolinecolor": "white"
           },
           "yaxis": {
            "backgroundcolor": "#E5ECF6",
            "gridcolor": "white",
            "gridwidth": 2,
            "linecolor": "white",
            "showbackground": true,
            "ticks": "",
            "zerolinecolor": "white"
           },
           "zaxis": {
            "backgroundcolor": "#E5ECF6",
            "gridcolor": "white",
            "gridwidth": 2,
            "linecolor": "white",
            "showbackground": true,
            "ticks": "",
            "zerolinecolor": "white"
           }
          },
          "shapedefaults": {
           "line": {
            "color": "#2a3f5f"
           }
          },
          "ternary": {
           "aaxis": {
            "gridcolor": "white",
            "linecolor": "white",
            "ticks": ""
           },
           "baxis": {
            "gridcolor": "white",
            "linecolor": "white",
            "ticks": ""
           },
           "bgcolor": "#E5ECF6",
           "caxis": {
            "gridcolor": "white",
            "linecolor": "white",
            "ticks": ""
           }
          },
          "title": {
           "x": 0.05
          },
          "xaxis": {
           "automargin": true,
           "gridcolor": "white",
           "linecolor": "white",
           "ticks": "",
           "title": {
            "standoff": 15
           },
           "zerolinecolor": "white",
           "zerolinewidth": 2
          },
          "yaxis": {
           "automargin": true,
           "gridcolor": "white",
           "linecolor": "white",
           "ticks": "",
           "title": {
            "standoff": 15
           },
           "zerolinecolor": "white",
           "zerolinewidth": 2
          }
         }
        },
        "title": {
         "text": "Delhi Stations"
        },
        "width": 1000
       }
      },
      "text/html": [
       "<div>                            <div id=\"65eba238-8e72-44dc-85fd-2a8f308e5649\" class=\"plotly-graph-div\" style=\"height:800px; width:1000px;\"></div>            <script type=\"text/javascript\">                require([\"plotly\"], function(Plotly) {                    window.PLOTLYENV=window.PLOTLYENV || {};                                    if (document.getElementById(\"65eba238-8e72-44dc-85fd-2a8f308e5649\")) {                    Plotly.newPlot(                        \"65eba238-8e72-44dc-85fd-2a8f308e5649\",                        [{\"customdata\":[[\"Alipur, Delhi - DPCC\"],[\"Anand Vihar, Delhi - DPCC\"],[\"Ashok Vihar, Delhi - DPCC\"],[\"Aya Nagar, Delhi - IMD\"],[\"Bawana, Delhi - DPCC\"],[\"Burari Crossing, Delhi - IMD\"],[\"CRRI Mathura Road, Delhi - IMD\"],[\"Chandni Chowk, Delhi - IITM\"],[\"DTU, Delhi - CPCB\"],[\"Dr. Karni Singh Shooting Range, Delhi - DPCC\"],[\"Dwarka-Sector 8, Delhi - DPCC \"],[\"East Arjun Nagar, Delhi - CPCB\"],[\"IGI Airport (T3), Delhi - IMD\"],[\"IHBAS, Dilshad Garden, Delhi - CPCB\"],[\"ITO, Delhi - CPCB\"],[\"Jahangirpuri, Delhi - DPCC\"],[\"Jawaharlal Nehru Stadium, Delhi - DPCC\"],[\"Lodhi Road, Delhi - IITM\"],[\"Lodhi Road, Delhi - IMD\"],[\"Major Dhyan Chand National Stadium, Delhi - DPCC\"],[\"Mandir Marg, Delhi - DPCC\"],[\"Mundka, Delhi - DPCC\"],[\"NSIT Dwarka, Delhi - CPCB\"],[\"Najafgarh, Delhi - DPCC\"],[\"Narela, Delhi - DPCC\"],[\"Nehru Nagar, Delhi - DPCC\"],[\"North Campus, DU, Delhi - IMD\"],[\"Okhla Phase-2, Delhi - DPCC\"],[\"Patparganj, Delhi - DPCC\"],[\"Punjabi Bagh, Delhi - DPCC\"],[\"Pusa, Delhi - DPCC\"],[\"Pusa, Delhi - IMD\"],[\"R K Puram, Delhi - DPCC\"],[\"Rohini, Delhi - DPCC\"],[\"Shadipur, Delhi - CPCB\"],[\"Sirifort, Delhi - CPCB\"],[\"Sonia Vihar, Delhi - DPCC\"],[\"Sri Aurobindo Marg, Delhi - DPCC\"],[\"Vivek Vihar, Delhi - DPCC\"],[\"Wazirpur, Delhi - DPCC\"]],\"hovertemplate\":\"<b>%{hovertext}</b><br><br>latitude=%{lat}<br>longitude=%{lon}<br>station=%{customdata[0]}<extra></extra>\",\"hovertext\":[\"Alipur, Delhi - DPCC\",\"Anand Vihar, Delhi - DPCC\",\"Ashok Vihar, Delhi - DPCC\",\"Aya Nagar, Delhi - IMD\",\"Bawana, Delhi - DPCC\",\"Burari Crossing, Delhi - IMD\",\"CRRI Mathura Road, Delhi - IMD\",\"Chandni Chowk, Delhi - IITM\",\"DTU, Delhi - CPCB\",\"Dr. Karni Singh Shooting Range, Delhi - DPCC\",\"Dwarka-Sector 8, Delhi - DPCC \",\"East Arjun Nagar, Delhi - CPCB\",\"IGI Airport (T3), Delhi - IMD\",\"IHBAS, Dilshad Garden, Delhi - CPCB\",\"ITO, Delhi - CPCB\",\"Jahangirpuri, Delhi - DPCC\",\"Jawaharlal Nehru Stadium, Delhi - DPCC\",\"Lodhi Road, Delhi - IITM\",\"Lodhi Road, Delhi - IMD\",\"Major Dhyan Chand National Stadium, Delhi - DPCC\",\"Mandir Marg, Delhi - DPCC\",\"Mundka, Delhi - DPCC\",\"NSIT Dwarka, Delhi - CPCB\",\"Najafgarh, Delhi - DPCC\",\"Narela, Delhi - DPCC\",\"Nehru Nagar, Delhi - DPCC\",\"North Campus, DU, Delhi - IMD\",\"Okhla Phase-2, Delhi - DPCC\",\"Patparganj, Delhi - DPCC\",\"Punjabi Bagh, Delhi - DPCC\",\"Pusa, Delhi - DPCC\",\"Pusa, Delhi - IMD\",\"R K Puram, Delhi - DPCC\",\"Rohini, Delhi - DPCC\",\"Shadipur, Delhi - CPCB\",\"Sirifort, Delhi - CPCB\",\"Sonia Vihar, Delhi - DPCC\",\"Sri Aurobindo Marg, Delhi - DPCC\",\"Vivek Vihar, Delhi - DPCC\",\"Wazirpur, Delhi - DPCC\"],\"lat\":[28.815329,28.647622,28.695381,28.4706914,28.7762,28.7256504,28.5512005,28.656756,28.7500499,28.498571,28.5710274,28.655935,28.5627763,28.6811736,28.628624,28.73282,28.58028,28.588333,28.5918245,28.611281,28.636429,28.684678,28.60909,28.570173,28.822836,28.56789,28.6573814,28.530785,28.623763,28.674045,28.639645,28.639645,28.563262,28.732528,28.6514781,28.5504249,28.710508,28.531346,28.672342,28.699793],\"legendgroup\":\"\",\"lon\":[77.15301,77.315809,77.181665,77.1099364,77.051074,77.2011573,77.2735737,77.227234,77.1112615,77.26484,77.0719006,77.294904,77.1180053,77.3025234,77.24106,77.170633,77.233829,77.221667,77.2273074,77.237738,77.201067,77.076574,77.0325413,76.933762,77.101981,77.250515,77.1585447,77.271255,77.287209,77.131023,77.146262,77.146263,77.186937,77.11992,77.1473105,77.2159377,77.249485,77.190156,77.31526,77.165453],\"marker\":{\"color\":\"#636efa\"},\"mode\":\"markers\",\"name\":\"\",\"showlegend\":false,\"subplot\":\"mapbox\",\"type\":\"scattermapbox\"}],                        {\"template\":{\"data\":{\"histogram2dcontour\":[{\"type\":\"histogram2dcontour\",\"colorbar\":{\"outlinewidth\":0,\"ticks\":\"\"},\"colorscale\":[[0.0,\"#0d0887\"],[0.1111111111111111,\"#46039f\"],[0.2222222222222222,\"#7201a8\"],[0.3333333333333333,\"#9c179e\"],[0.4444444444444444,\"#bd3786\"],[0.5555555555555556,\"#d8576b\"],[0.6666666666666666,\"#ed7953\"],[0.7777777777777778,\"#fb9f3a\"],[0.8888888888888888,\"#fdca26\"],[1.0,\"#f0f921\"]]}],\"choropleth\":[{\"type\":\"choropleth\",\"colorbar\":{\"outlinewidth\":0,\"ticks\":\"\"}}],\"histogram2d\":[{\"type\":\"histogram2d\",\"colorbar\":{\"outlinewidth\":0,\"ticks\":\"\"},\"colorscale\":[[0.0,\"#0d0887\"],[0.1111111111111111,\"#46039f\"],[0.2222222222222222,\"#7201a8\"],[0.3333333333333333,\"#9c179e\"],[0.4444444444444444,\"#bd3786\"],[0.5555555555555556,\"#d8576b\"],[0.6666666666666666,\"#ed7953\"],[0.7777777777777778,\"#fb9f3a\"],[0.8888888888888888,\"#fdca26\"],[1.0,\"#f0f921\"]]}],\"heatmap\":[{\"type\":\"heatmap\",\"colorbar\":{\"outlinewidth\":0,\"ticks\":\"\"},\"colorscale\":[[0.0,\"#0d0887\"],[0.1111111111111111,\"#46039f\"],[0.2222222222222222,\"#7201a8\"],[0.3333333333333333,\"#9c179e\"],[0.4444444444444444,\"#bd3786\"],[0.5555555555555556,\"#d8576b\"],[0.6666666666666666,\"#ed7953\"],[0.7777777777777778,\"#fb9f3a\"],[0.8888888888888888,\"#fdca26\"],[1.0,\"#f0f921\"]]}],\"heatmapgl\":[{\"type\":\"heatmapgl\",\"colorbar\":{\"outlinewidth\":0,\"ticks\":\"\"},\"colorscale\":[[0.0,\"#0d0887\"],[0.1111111111111111,\"#46039f\"],[0.2222222222222222,\"#7201a8\"],[0.3333333333333333,\"#9c179e\"],[0.4444444444444444,\"#bd3786\"],[0.5555555555555556,\"#d8576b\"],[0.6666666666666666,\"#ed7953\"],[0.7777777777777778,\"#fb9f3a\"],[0.8888888888888888,\"#fdca26\"],[1.0,\"#f0f921\"]]}],\"contourcarpet\":[{\"type\":\"contourcarpet\",\"colorbar\":{\"outlinewidth\":0,\"ticks\":\"\"}}],\"contour\":[{\"type\":\"contour\",\"colorbar\":{\"outlinewidth\":0,\"ticks\":\"\"},\"colorscale\":[[0.0,\"#0d0887\"],[0.1111111111111111,\"#46039f\"],[0.2222222222222222,\"#7201a8\"],[0.3333333333333333,\"#9c179e\"],[0.4444444444444444,\"#bd3786\"],[0.5555555555555556,\"#d8576b\"],[0.6666666666666666,\"#ed7953\"],[0.7777777777777778,\"#fb9f3a\"],[0.8888888888888888,\"#fdca26\"],[1.0,\"#f0f921\"]]}],\"surface\":[{\"type\":\"surface\",\"colorbar\":{\"outlinewidth\":0,\"ticks\":\"\"},\"colorscale\":[[0.0,\"#0d0887\"],[0.1111111111111111,\"#46039f\"],[0.2222222222222222,\"#7201a8\"],[0.3333333333333333,\"#9c179e\"],[0.4444444444444444,\"#bd3786\"],[0.5555555555555556,\"#d8576b\"],[0.6666666666666666,\"#ed7953\"],[0.7777777777777778,\"#fb9f3a\"],[0.8888888888888888,\"#fdca26\"],[1.0,\"#f0f921\"]]}],\"mesh3d\":[{\"type\":\"mesh3d\",\"colorbar\":{\"outlinewidth\":0,\"ticks\":\"\"}}],\"scatter\":[{\"fillpattern\":{\"fillmode\":\"overlay\",\"size\":10,\"solidity\":0.2},\"type\":\"scatter\"}],\"parcoords\":[{\"type\":\"parcoords\",\"line\":{\"colorbar\":{\"outlinewidth\":0,\"ticks\":\"\"}}}],\"scatterpolargl\":[{\"type\":\"scatterpolargl\",\"marker\":{\"colorbar\":{\"outlinewidth\":0,\"ticks\":\"\"}}}],\"bar\":[{\"error_x\":{\"color\":\"#2a3f5f\"},\"error_y\":{\"color\":\"#2a3f5f\"},\"marker\":{\"line\":{\"color\":\"#E5ECF6\",\"width\":0.5},\"pattern\":{\"fillmode\":\"overlay\",\"size\":10,\"solidity\":0.2}},\"type\":\"bar\"}],\"scattergeo\":[{\"type\":\"scattergeo\",\"marker\":{\"colorbar\":{\"outlinewidth\":0,\"ticks\":\"\"}}}],\"scatterpolar\":[{\"type\":\"scatterpolar\",\"marker\":{\"colorbar\":{\"outlinewidth\":0,\"ticks\":\"\"}}}],\"histogram\":[{\"marker\":{\"pattern\":{\"fillmode\":\"overlay\",\"size\":10,\"solidity\":0.2}},\"type\":\"histogram\"}],\"scattergl\":[{\"type\":\"scattergl\",\"marker\":{\"colorbar\":{\"outlinewidth\":0,\"ticks\":\"\"}}}],\"scatter3d\":[{\"type\":\"scatter3d\",\"line\":{\"colorbar\":{\"outlinewidth\":0,\"ticks\":\"\"}},\"marker\":{\"colorbar\":{\"outlinewidth\":0,\"ticks\":\"\"}}}],\"scattermapbox\":[{\"type\":\"scattermapbox\",\"marker\":{\"colorbar\":{\"outlinewidth\":0,\"ticks\":\"\"}}}],\"scatterternary\":[{\"type\":\"scatterternary\",\"marker\":{\"colorbar\":{\"outlinewidth\":0,\"ticks\":\"\"}}}],\"scattercarpet\":[{\"type\":\"scattercarpet\",\"marker\":{\"colorbar\":{\"outlinewidth\":0,\"ticks\":\"\"}}}],\"carpet\":[{\"aaxis\":{\"endlinecolor\":\"#2a3f5f\",\"gridcolor\":\"white\",\"linecolor\":\"white\",\"minorgridcolor\":\"white\",\"startlinecolor\":\"#2a3f5f\"},\"baxis\":{\"endlinecolor\":\"#2a3f5f\",\"gridcolor\":\"white\",\"linecolor\":\"white\",\"minorgridcolor\":\"white\",\"startlinecolor\":\"#2a3f5f\"},\"type\":\"carpet\"}],\"table\":[{\"cells\":{\"fill\":{\"color\":\"#EBF0F8\"},\"line\":{\"color\":\"white\"}},\"header\":{\"fill\":{\"color\":\"#C8D4E3\"},\"line\":{\"color\":\"white\"}},\"type\":\"table\"}],\"barpolar\":[{\"marker\":{\"line\":{\"color\":\"#E5ECF6\",\"width\":0.5},\"pattern\":{\"fillmode\":\"overlay\",\"size\":10,\"solidity\":0.2}},\"type\":\"barpolar\"}],\"pie\":[{\"automargin\":true,\"type\":\"pie\"}]},\"layout\":{\"autotypenumbers\":\"strict\",\"colorway\":[\"#636efa\",\"#EF553B\",\"#00cc96\",\"#ab63fa\",\"#FFA15A\",\"#19d3f3\",\"#FF6692\",\"#B6E880\",\"#FF97FF\",\"#FECB52\"],\"font\":{\"color\":\"#2a3f5f\"},\"hovermode\":\"closest\",\"hoverlabel\":{\"align\":\"left\"},\"paper_bgcolor\":\"white\",\"plot_bgcolor\":\"#E5ECF6\",\"polar\":{\"bgcolor\":\"#E5ECF6\",\"angularaxis\":{\"gridcolor\":\"white\",\"linecolor\":\"white\",\"ticks\":\"\"},\"radialaxis\":{\"gridcolor\":\"white\",\"linecolor\":\"white\",\"ticks\":\"\"}},\"ternary\":{\"bgcolor\":\"#E5ECF6\",\"aaxis\":{\"gridcolor\":\"white\",\"linecolor\":\"white\",\"ticks\":\"\"},\"baxis\":{\"gridcolor\":\"white\",\"linecolor\":\"white\",\"ticks\":\"\"},\"caxis\":{\"gridcolor\":\"white\",\"linecolor\":\"white\",\"ticks\":\"\"}},\"coloraxis\":{\"colorbar\":{\"outlinewidth\":0,\"ticks\":\"\"}},\"colorscale\":{\"sequential\":[[0.0,\"#0d0887\"],[0.1111111111111111,\"#46039f\"],[0.2222222222222222,\"#7201a8\"],[0.3333333333333333,\"#9c179e\"],[0.4444444444444444,\"#bd3786\"],[0.5555555555555556,\"#d8576b\"],[0.6666666666666666,\"#ed7953\"],[0.7777777777777778,\"#fb9f3a\"],[0.8888888888888888,\"#fdca26\"],[1.0,\"#f0f921\"]],\"sequentialminus\":[[0.0,\"#0d0887\"],[0.1111111111111111,\"#46039f\"],[0.2222222222222222,\"#7201a8\"],[0.3333333333333333,\"#9c179e\"],[0.4444444444444444,\"#bd3786\"],[0.5555555555555556,\"#d8576b\"],[0.6666666666666666,\"#ed7953\"],[0.7777777777777778,\"#fb9f3a\"],[0.8888888888888888,\"#fdca26\"],[1.0,\"#f0f921\"]],\"diverging\":[[0,\"#8e0152\"],[0.1,\"#c51b7d\"],[0.2,\"#de77ae\"],[0.3,\"#f1b6da\"],[0.4,\"#fde0ef\"],[0.5,\"#f7f7f7\"],[0.6,\"#e6f5d0\"],[0.7,\"#b8e186\"],[0.8,\"#7fbc41\"],[0.9,\"#4d9221\"],[1,\"#276419\"]]},\"xaxis\":{\"gridcolor\":\"white\",\"linecolor\":\"white\",\"ticks\":\"\",\"title\":{\"standoff\":15},\"zerolinecolor\":\"white\",\"automargin\":true,\"zerolinewidth\":2},\"yaxis\":{\"gridcolor\":\"white\",\"linecolor\":\"white\",\"ticks\":\"\",\"title\":{\"standoff\":15},\"zerolinecolor\":\"white\",\"automargin\":true,\"zerolinewidth\":2},\"scene\":{\"xaxis\":{\"backgroundcolor\":\"#E5ECF6\",\"gridcolor\":\"white\",\"linecolor\":\"white\",\"showbackground\":true,\"ticks\":\"\",\"zerolinecolor\":\"white\",\"gridwidth\":2},\"yaxis\":{\"backgroundcolor\":\"#E5ECF6\",\"gridcolor\":\"white\",\"linecolor\":\"white\",\"showbackground\":true,\"ticks\":\"\",\"zerolinecolor\":\"white\",\"gridwidth\":2},\"zaxis\":{\"backgroundcolor\":\"#E5ECF6\",\"gridcolor\":\"white\",\"linecolor\":\"white\",\"showbackground\":true,\"ticks\":\"\",\"zerolinecolor\":\"white\",\"gridwidth\":2}},\"shapedefaults\":{\"line\":{\"color\":\"#2a3f5f\"}},\"annotationdefaults\":{\"arrowcolor\":\"#2a3f5f\",\"arrowhead\":0,\"arrowwidth\":1},\"geo\":{\"bgcolor\":\"white\",\"landcolor\":\"#E5ECF6\",\"subunitcolor\":\"white\",\"showland\":true,\"showlakes\":true,\"lakecolor\":\"white\"},\"title\":{\"x\":0.05},\"mapbox\":{\"style\":\"light\"}}},\"mapbox\":{\"domain\":{\"x\":[0.0,1.0],\"y\":[0.0,1.0]},\"center\":{\"lat\":28.7041,\"lon\":77.1025},\"zoom\":8,\"style\":\"carto-positron\"},\"legend\":{\"tracegroupgap\":0},\"title\":{\"text\":\"Delhi Stations\"},\"height\":800,\"width\":1000},                        {\"responsive\": true}                    ).then(function(){\n",
       "                            \n",
       "var gd = document.getElementById('65eba238-8e72-44dc-85fd-2a8f308e5649');\n",
       "var x = new MutationObserver(function (mutations, observer) {{\n",
       "        var display = window.getComputedStyle(gd).display;\n",
       "        if (!display || display === 'none') {{\n",
       "            console.log([gd, 'removed!']);\n",
       "            Plotly.purge(gd);\n",
       "            observer.disconnect();\n",
       "        }}\n",
       "}});\n",
       "\n",
       "// Listen for the removal of the full notebook cells\n",
       "var notebookContainer = gd.closest('#notebook-container');\n",
       "if (notebookContainer) {{\n",
       "    x.observe(notebookContainer, {childList: true});\n",
       "}}\n",
       "\n",
       "// Listen for the clearing of the current output cell\n",
       "var outputEl = gd.closest('.output');\n",
       "if (outputEl) {{\n",
       "    x.observe(outputEl, {childList: true});\n",
       "}}\n",
       "\n",
       "                        })                };                });            </script>        </div>"
      ]
     },
     "metadata": {},
     "output_type": "display_data"
    }
   ],
   "source": [
    "fig = px.scatter_mapbox(\n",
    "    stations_df,\n",
    "    lat=\"latitude\",\n",
    "    lon=\"longitude\",\n",
    "    hover_name=\"station\",\n",
    "    hover_data=[\"station\"],\n",
    "    height=800,\n",
    "    width=1000,\n",
    "    center={\"lat\": 28.7041, \"lon\": 77.1025},\n",
    "    mapbox_style=\"carto-positron\",\n",
    "    title=\"Delhi Stations\",\n",
    ")\n",
    "fig.show()"
   ]
  },
  {
   "attachments": {},
   "cell_type": "markdown",
   "metadata": {},
   "source": [
    "## Visualize spatial correlation of stations"
   ]
  },
  {
   "attachments": {},
   "cell_type": "markdown",
   "metadata": {},
   "source": [
    "### Drop stations with lots of missing data"
   ]
  },
  {
   "cell_type": "code",
   "execution_count": 5,
   "metadata": {},
   "outputs": [
    {
     "data": {
      "text/plain": [
       "Rohini, Delhi - DPCC                                0.993607\n",
       "Okhla Phase-2, Delhi - DPCC                         0.991210\n",
       "Dr. Karni Singh Shooting Range, Delhi - DPCC        0.986073\n",
       "Bawana, Delhi - DPCC                                0.985845\n",
       "Nehru Nagar, Delhi - DPCC                           0.983333\n",
       "Dwarka-Sector 8, Delhi - DPCC                       0.979795\n",
       "IGI Airport (T3), Delhi - IMD                       0.979452\n",
       "Major Dhyan Chand National Stadium, Delhi - DPCC    0.977740\n",
       "Anand Vihar, Delhi - DPCC                           0.975799\n",
       "R K Puram, Delhi - DPCC                             0.975685\n",
       "Mundka, Delhi - DPCC                                0.975571\n",
       "Sri Aurobindo Marg, Delhi - DPCC                    0.973744\n",
       "CRRI Mathura Road, Delhi - IMD                      0.973744\n",
       "Alipur, Delhi - DPCC                                0.970434\n",
       "Lodhi Road, Delhi - IMD                             0.969977\n",
       "North Campus, DU, Delhi - IMD                       0.969178\n",
       "Jahangirpuri, Delhi - DPCC                          0.968607\n",
       "Patparganj, Delhi - DPCC                            0.968037\n",
       "Wazirpur, Delhi - DPCC                              0.967922\n",
       "Sonia Vihar, Delhi - DPCC                           0.967580\n",
       "Punjabi Bagh, Delhi - DPCC                          0.966781\n",
       "Narela, Delhi - DPCC                                0.965868\n",
       "ITO, Delhi - CPCB                                   0.965068\n",
       "Pusa, Delhi - DPCC                                  0.957078\n",
       "Ashok Vihar, Delhi - DPCC                           0.955708\n",
       "Mandir Marg, Delhi - DPCC                           0.951370\n",
       "Shadipur, Delhi - CPCB                              0.950685\n",
       "NSIT Dwarka, Delhi - CPCB                           0.950228\n",
       "Jawaharlal Nehru Stadium, Delhi - DPCC              0.948630\n",
       "Vivek Vihar, Delhi - DPCC                           0.944635\n",
       "Sirifort, Delhi - CPCB                              0.927854\n",
       "Aya Nagar, Delhi - IMD                              0.926712\n",
       "Najafgarh, Delhi - DPCC                             0.925000\n",
       "Pusa, Delhi - IMD                                   0.922489\n",
       "IHBAS, Dilshad Garden, Delhi - CPCB                 0.887443\n",
       "DTU, Delhi - CPCB                                   0.815525\n",
       "Burari Crossing, Delhi - IMD                        0.626142\n",
       "Chandni Chowk, Delhi - IITM                         0.515183\n",
       "Lodhi Road, Delhi - IITM                            0.472945\n",
       "Name: station, dtype: float64"
      ]
     },
     "execution_count": 5,
     "metadata": {},
     "output_type": "execute_result"
    }
   ],
   "source": [
    "clean_df = df.dropna(subset=\"PM2.5\")\n",
    "fraction_df = clean_df.station.value_counts()/(365*24)\n",
    "fraction_df"
   ]
  },
  {
   "cell_type": "code",
   "execution_count": 6,
   "metadata": {},
   "outputs": [
    {
     "data": {
      "text/plain": [
       "(23,)"
      ]
     },
     "execution_count": 6,
     "metadata": {},
     "output_type": "execute_result"
    }
   ],
   "source": [
    "clean_df = clean_df[clean_df.station.isin(fraction_df[fraction_df > 0.95].index)]\n",
    "\n",
    "clean_df.station.value_counts().shape"
   ]
  },
  {
   "attachments": {},
   "cell_type": "markdown",
   "metadata": {},
   "source": [
    "## Plot correlations"
   ]
  },
  {
   "cell_type": "code",
   "execution_count": 7,
   "metadata": {},
   "outputs": [],
   "source": [
    "station_dict = dict(stations_df.set_index(\"station\").to_dict(orient=\"index\"))"
   ]
  },
  {
   "cell_type": "code",
   "execution_count": 8,
   "metadata": {},
   "outputs": [
    {
     "data": {
      "image/png": "[encoded data removed]",
      "text/plain": [
       "<Figure size 432x288 with 1 Axes>"
      ]
     },
     "metadata": {
      "needs_background": "light"
     },
     "output_type": "display_data"
    },
    {
     "data": {
      "image/png": "[encoded data removed]",
      "text/plain": [
       "<Figure size 432x288 with 1 Axes>"
      ]
     },
     "metadata": {
      "needs_background": "light"
     },
     "output_type": "display_data"
    },
    {
     "data": {
      "image/png": "[encoded data removed]",
      "text/plain": [
       "<Figure size 432x288 with 1 Axes>"
      ]
     },
     "metadata": {
      "needs_background": "light"
     },
     "output_type": "display_data"
    }
   ],
   "source": [
    "pivot_df = pd.pivot_table(clean_df, columns='station', index='time', values='PM2.5')\n",
    "corr_df = pivot_df.corr()\n",
    "def get_distance(station1, station2):\n",
    "    return np.sqrt((station_dict[station1][\"longitude\"] - station_dict[station2][\"longitude\"])**2 + (station_dict[station1][\"latitude\"] - station_dict[station2][\"latitude\"])**2)\n",
    "\n",
    "def get_lat_diff(station1, station2):\n",
    "    return np.abs(station_dict[station1][\"latitude\"] - station_dict[station2][\"latitude\"])\n",
    "\n",
    "def get_lon_diff(station1, station2):\n",
    "    return np.abs(station_dict[station1][\"longitude\"] - station_dict[station2][\"longitude\"])\n",
    "\n",
    "dists = []\n",
    "lon_dists = []\n",
    "lat_dists = []\n",
    "corrs = []\n",
    "for station1 in corr_df.columns:\n",
    "    for station2 in corr_df.columns:\n",
    "        if station1 != station2:\n",
    "            dist = get_distance(station1, station2)\n",
    "            corr = corr_df.loc[station1, station2]\n",
    "            dists.append(dist)\n",
    "            corrs.append(corr)\n",
    "            lon_dists.append(get_lon_diff(station1, station2))\n",
    "            lat_dists.append(get_lat_diff(station1, station2))\n",
    "        else:\n",
    "            break\n",
    "            \n",
    "plt.figure();plt.scatter(dists, corrs);plt.xlabel(\"distance\");plt.ylabel(\"corr\")\n",
    "plt.figure();plt.scatter(lon_dists, corrs);plt.xlabel(\"longitude distance\");plt.ylabel(\"corr\")\n",
    "plt.figure();plt.scatter(lat_dists, corrs);plt.xlabel(\"latitude distance\");plt.ylabel(\"corr\");"
   ]
  }
 ],
 "metadata": {
  "kernelspec": {
   "display_name": "base",
   "language": "python",
   "name": "python3"
  },
  "language_info": {
   "codemirror_mode": {
    "name": "ipython",
    "version": 3
   },
   "file_extension": ".py",
   "mimetype": "text/x-python",
   "name": "python",
   "nbconvert_exporter": "python",
   "pygments_lexer": "ipython3",
   "version": "3.9.5"
  },
  "orig_nbformat": 4
 },
 "nbformat": 4,
 "nbformat_minor": 2
}
