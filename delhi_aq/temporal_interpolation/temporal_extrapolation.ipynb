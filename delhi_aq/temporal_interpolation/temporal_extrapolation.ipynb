{
 "cells": [
  {
   "cell_type": "code",
   "execution_count": 20,
   "metadata": {},
   "outputs": [],
   "source": [
    "import os\n",
    "# os.environ[\"CUDA_VISIBLE_DEVICES\"] = \"2\"\n",
    "\n",
    "import numpy as np\n",
    "import pandas as pd\n",
    "import xarray as xr\n",
    "\n",
    "import jax\n",
    "import jax.numpy as jnp\n",
    "from jax.flatten_util import ravel_pytree\n",
    "import jax.tree_util as jtu\n",
    "\n",
    "from tqdm import tqdm\n",
    "from sklearn.ensemble import RandomForestRegressor, GradientBoostingRegressor, AdaBoostRegressor\n",
    "from sklearn.model_selection import train_test_split\n",
    "from sklearn.preprocessing import StandardScaler, MinMaxScaler\n",
    "from sklearn.metrics import mean_squared_error\n",
    "\n",
    "from delhi_aq.jax.my_nn import SIREN, fit, NeRF, NeRFPE\n",
    "from delhi_aq.jax.my_utils import pool_image, get_coords_for_image, rmse_fn\n",
    "\n",
    "import matplotlib.pyplot as plt\n",
    "from multiprocessing import Pool"
   ]
  },
  {
   "cell_type": "code",
   "execution_count": 21,
   "metadata": {},
   "outputs": [
    {
     "name": "stdout",
     "output_type": "stream",
     "text": [
      "Index(['station', 'From Date', 'To Date', 'PM2.5', 'PM10', 'NO', 'NO2', 'NOx',\n",
      "       'NH3', 'SO2', 'CO', 'Ozone', 'Benzene', 'Toluene', 'RH', 'WS', 'WD',\n",
      "       'SR', 'BP', 'AT', 'RF', 'TOT-RF', 'latitude', 'longitude'],\n",
      "      dtype='object')\n"
     ]
    }
   ],
   "source": [
    "seed = 1\n",
    "aq_data = xr.open_dataset(\"../processed_data/delhi_cpcb_2022_cleaned.nc\").to_dataframe().reset_index().set_index(\"time\")\n",
    "print(aq_data.columns)\n",
    "all_stations = aq_data.dropna(subset=\"PM2.5\").station.unique()"
   ]
  },
  {
   "cell_type": "code",
   "execution_count": 22,
   "metadata": {},
   "outputs": [
    {
     "data": {
      "text/plain": [
       "8783.0"
      ]
     },
     "execution_count": 22,
     "metadata": {},
     "output_type": "execute_result"
    }
   ],
   "source": [
    "aq_data.shape[0]/39"
   ]
  },
  {
   "cell_type": "code",
   "execution_count": 23,
   "metadata": {},
   "outputs": [
    {
     "name": "stderr",
     "output_type": "stream",
     "text": [
      "100%|██████████| 39/39 [00:00<00:00, 90175.22it/s]"
     ]
    },
    {
     "name": "stdout",
     "output_type": "stream",
     "text": [
      "(7713, 1)(7326, 1)(7555, 1)(7670, 1)   (733, 1) (756, 1) (772, 1)(767, 1) (82, 1)  (84, 1) (86, 1)(86, 1)(7326, 1)    (7555, 1)(7713, 1)(7670, 1) (733, 1) (756, 1)  (767, 1) (82, 1)(772, 1)(84, 1) \n",
      "\n",
      " (86, 1)(86, 1)\n",
      "\n"
     ]
    },
    {
     "name": "stderr",
     "output_type": "stream",
     "text": [
      "\n"
     ]
    },
    {
     "name": "stdout",
     "output_type": "stream",
     "text": [
      "(7793, 1) (779, 1) (87, 1) (7793, 1) (779, 1) (87, 1)\n",
      "(4957, 1) (495, 1) (56, 1) (4957, 1) (495, 1) (56, 1)\n",
      "(7696, 1) (770, 1) (86, 1) (7696, 1) (770, 1) (86, 1)\n",
      "(4082, 1) (408, 1) (46, 1) (4082, 1) (408, 1) (46, 1)\n",
      "(6450, 1) (645, 1) (72, 1) (6450, 1) (645, 1) (72, 1)\n",
      "(7794, 1) (780, 1) (87, 1) (7794, 1) (780, 1) (87, 1)\n",
      "(7745, 1) (774, 1) (87, 1) (7745, 1) (774, 1) (87, 1)\n",
      "(7742, 1) (774, 1) (87, 1) (7742, 1) (774, 1) (87, 1)\n",
      "(7017, 1) (702, 1) (78, 1) (7017, 1) (702, 1) (78, 1)\n",
      "(7629, 1) (763, 1) (85, 1) (7629, 1) (763, 1) (85, 1)\n",
      "(7657, 1) (765, 1) (86, 1) (7657, 1) (765, 1) (86, 1)\n",
      "(7499, 1) (750, 1) (84, 1) (7499, 1) (750, 1) (84, 1)\n",
      "(3728, 1) (373, 1) (42, 1) (3728, 1) (373, 1) (42, 1)\n",
      "(7668, 1) (766, 1) (86, 1) (7668, 1) (766, 1) (86, 1)\n",
      "(7729, 1) (773, 1) (86, 1) (7729, 1) (773, 1) (86, 1)\n",
      "(7509, 1) (751, 1) (84, 1) (7509, 1) (751, 1) (84, 1)\n",
      "(7712, 1) (771, 1) (86, 1) (7712, 1) (771, 1) (86, 1)\n",
      "(7512, 1) (751, 1) (84, 1) (7512, 1) (84, 1)(751, 1) \n",
      "(7311, 1) (731, 1) (82, 1) (7311, 1) (731, 1) (82, 1)\n",
      "(7635, 1) (764, 1) (85, 1) (7635, 1) (764, 1) (85, 1)\n",
      "(7773, 1) (777, 1) (87, 1) (7773, 1) (777, 1) (87, 1)\n",
      "(7661, 1) (766, 1) (86, 1) (7661, 1) (766, 1) (86, 1)\n",
      "(7835, 1) (783, 1) (88, 1) (7835, 1) (783, 1) (88, 1)\n",
      "(7652, 1) (765, 1) (86, 1) (7652, 1) (765, 1) (86, 1)\n",
      "(7642, 1) (765, 1) (85, 1) (7642, 1) (765, 1) (85, 1)\n",
      "(7566, 1) (756, 1) (85, 1) (7566, 1) (756, 1) (85, 1)\n",
      "(7293, 1) (729, 1) (82, 1) (7293, 1) (729, 1) (82, 1)\n",
      "(7713, 1) (771, 1) (86, 1) (7713, 1) (771, 1) (86, 1)\n",
      "(7854, 1) (785, 1) (88, 1) (7854, 1) (785, 1) (88, 1)\n",
      "(7515, 1) (752, 1) (84, 1) (7515, 1) (752, 1) (84, 1)\n",
      "(7335, 1) (734, 1) (82, 1) (7335, 1) (734, 1) (82, 1)\n",
      "(7649, 1) (765, 1) (85, 1) (7649, 1) (765, 1) (85, 1)\n",
      "(7697, 1) (770, 1) (86, 1) (7697, 1) (770, 1) (86, 1)\n",
      "(7468, 1) (747, 1) (83, 1) (7468, 1) (747, 1) (83, 1)\n",
      "(7651, 1) (765, 1) (86, 1) (7651, 1) (765, 1) (86, 1)\n"
     ]
    }
   ],
   "source": [
    "result_df = aq_data.drop_duplicates(subset=[\"station\"]).set_index(\"station\")[[\"latitude\", \"longitude\"]]\n",
    "def load_and_process_data(station):\n",
    "    # print(\"###############\")\n",
    "    # print(f\"Station: {station}\")\n",
    "    # print(\"###############\")\n",
    "    timeseries = aq_data[aq_data[\"station\"] == station][['From Date', 'PM2.5']]\n",
    "    init_len = timeseries.shape[0]\n",
    "    timeseries['x'] = np.linspace(-1, 1, init_len)\n",
    "    timeseries.dropna(subset=[\"PM2.5\"], inplace=True)\n",
    "    final_len = timeseries.shape[0]\n",
    "    missing_data_frac = 1 - final_len/init_len\n",
    "    # print(f\"Initial length={init_len}, Final length={final_len}, missing data frac={missing_data_frac:.2f}\")\n",
    "    \n",
    "    x = timeseries['x'].values.reshape(-1, 1)\n",
    "    y = timeseries['PM2.5'].values.reshape(-1, 1)\n",
    "    train_offset = int(0.9 * x.shape[0])\n",
    "    val_offset = int(0.99 * x.shape[0])\n",
    "    train_x_, train_y_ = x[:train_offset], y[:train_offset]\n",
    "    val_x_, val_y_ = x[train_offset:val_offset], y[train_offset:val_offset]\n",
    "    test_x_, test_y_ = x[val_offset:], y[val_offset:]\n",
    "    print(train_x_.shape, val_x_.shape, test_x_.shape, train_y_.shape, val_y_.shape, test_y_.shape)\n",
    "    # train_val_x_, test_x_, train_val_y_, test_y_ = train_test_split(x, y, test_size=0.2, random_state=seed+1)\n",
    "    # train_x_, val_x_, train_y_, val_y_ = train_test_split(train_val_x_, train_val_y_, test_size=0.2, random_state=seed+2)\n",
    "    return train_x_, val_x_, test_x_, train_y_, val_y_, test_y_, missing_data_frac\n",
    "    \n",
    "def run(station, gpu_id):\n",
    "    os.environ[\"CUDA_VISIBLE_DEVICES\"] = str(gpu_id)\n",
    "    train_x_, val_x_, test_x_, train_y_, val_y_, test_y_, missing_data_frac = load_and_process_data(station)\n",
    "    x_scaler = MinMaxScaler((-1, 1))\n",
    "    y_scaler = MinMaxScaler((-1, 1))\n",
    "    train_x = x_scaler.fit_transform(train_x_)\n",
    "    val_x = x_scaler.transform(val_x_)\n",
    "    test_x = x_scaler.transform(test_x_)\n",
    "    train_y = y_scaler.fit_transform(train_y_)\n",
    "    val_y = y_scaler.transform(val_y_)\n",
    "    test_y = y_scaler.transform(test_y_)\n",
    "    # print(train_x.shape, val_x.shape, test_x.shape, train_y.shape, val_y.shape, test_y.shape)\n",
    "    \n",
    "    model = SIREN(n_hidden_layer_neurons=[256, 256, 256, 256], output_shape=train_y_.shape[-1], activation_scale=30.0)\n",
    "    config = {\"lr\":1e-4, \"batch_size\":-1, \"iterations\": 10000}\n",
    "    params, old_params_history, train_losses, val_losses, test_losses = fit(jax.random.PRNGKey(seed+3), model, \n",
    "                                                                            train_x, train_y, config, val_x, val_y, test_x, test_y)\n",
    "    \n",
    "    # plt.plot(train_losses, label=\"train\")\n",
    "    # plt.plot(val_losses, label=\"val\")\n",
    "    # plt.plot(test_losses, label=\"test\")\n",
    "    # plt.legend();\n",
    "    \n",
    "    best_val_idx = jnp.argmin(val_losses)\n",
    "    best_params = jtu.tree_map(lambda x: x[best_val_idx], old_params_history)\n",
    "\n",
    "    pred_y = model.apply(best_params, test_x).__array__()\n",
    "    pred_y_ = y_scaler.inverse_transform(pred_y)\n",
    "    # plt.scatter(test_y_, pred_y_)\n",
    "    # plt.plot([0, 500], [0, 500], color=\"r\", linestyle=\"--\");\n",
    "\n",
    "    rmse = mean_squared_error(test_y_, pred_y_, squared=False)\n",
    "    return station, rmse, missing_data_frac\n",
    "\n",
    "# run the above function parallely on 4 GPUs using multiprocessing\n",
    "# I want to dynamically allocate GPUs as they become available\n",
    "\n",
    "pool = Pool(4)\n",
    "results = []\n",
    "for station in tqdm(all_stations):\n",
    "    gpu_id = len(results) % 4\n",
    "    results.append(pool.apply_async(run, args=(station, gpu_id)))\n",
    "pool.close()\n",
    "pool.join()\n",
    "\n",
    "result_df = pd.DataFrame([r.get() for r in results], columns=[\"station\", \"rmse\", \"missing_data_frac\"]).set_index(\"station\")\n",
    "result_df.to_csv(\"results/temporal_interpolation_SIREN.csv\")"
   ]
  },
  {
   "attachments": {},
   "cell_type": "markdown",
   "metadata": {},
   "source": [
    "## RF"
   ]
  },
  {
   "cell_type": "code",
   "execution_count": 24,
   "metadata": {},
   "outputs": [
    {
     "name": "stderr",
     "output_type": "stream",
     "text": [
      "100%|██████████| 39/39 [00:00<00:00, 102556.65it/s]"
     ]
    },
    {
     "name": "stdout",
     "output_type": "stream",
     "text": [
      "(7670, 1) (767, 1) (86, 1) (7670, 1)(4082, 1)(7311, 1)(7712, 1)(7629, 1)(7794, 1)(7326, 1)(7696, 1)(7657, 1) (7713, 1)(7499, 1)(6450, 1)(7793, 1)(4957, 1)(7555, 1) (3728, 1)  (7668, 1) (767, 1)   (7745, 1)    (731, 1)  (771, 1)  (408, 1)(733, 1) (7729, 1)(7512, 1) (770, 1)(763, 1)(780, 1)(645, 1)(750, 1)(7509, 1)(756, 1) (765, 1)(772, 1)(7661, 1)(7642, 1) (373, 1)(495, 1) (779, 1)  (766, 1)(7635, 1)(86, 1)     (7652, 1)    (774, 1)    (82, 1)  (86, 1)(82, 1)  (46, 1)\n",
      " (86, 1)(751, 1)(85, 1)(773, 1)(72, 1)(84, 1) (7713, 1)(84, 1)(87, 1)(751, 1)(86, 1) (7835, 1)(86, 1)(766, 1)(765, 1) (56, 1)(42, 1) (7566, 1)(7773, 1)(87, 1)(7293, 1)  (86, 1) (764, 1)     (765, 1)     (87, 1)     (7311, 1)(7712, 1)   (7326, 1) (4082, 1) (7696, 1)  (7629, 1)(7499, 1)(84, 1) (86, 1)(6450, 1)(771, 1)(84, 1)(7794, 1)(7555, 1)(783, 1)(7713, 1) (86, 1)(4957, 1) (85, 1)(7657, 1) (756, 1)(3728, 1)(7793, 1)(777, 1) (7668, 1)  (729, 1) (85, 1)    (86, 1)      (7745, 1)  (771, 1)  (731, 1)    (408, 1) (770, 1) (733, 1)(763, 1)(750, 1) (7512, 1)(7729, 1)(86, 1) (645, 1)(7509, 1)(780, 1)(88, 1)(772, 1)(756, 1)(495, 1)  (7661, 1)(7642, 1)(85, 1) (373, 1)(765, 1)(87, 1)(779, 1)  (766, 1)(82, 1)   (7635, 1)   (7652, 1)   (7742, 1)    (86, 1)(774, 1)(7017, 1)    (82, 1)   (86, 1)(46, 1)  (82, 1)(85, 1)(84, 1) (773, 1)(751, 1)(7713, 1)(87, 1)(72, 1) (751, 1)(7835, 1)(86, 1)(56, 1)\n",
      " (84, 1) (765, 1)(766, 1)(42, 1) (7566, 1)\n",
      "(87, 1)(7773, 1)(86, 1)\n",
      "\n",
      "(86, 1)\n",
      "(7293, 1)\n",
      "\n",
      "(764, 1)  \n",
      "\n",
      "  (765, 1) \n",
      "\n",
      "\n",
      "(774, 1) (87, 1) \n",
      "\n",
      "  \n",
      "(702, 1)\n",
      "  (86, 1)(84, 1)(771, 1) (783, 1)(85, 1) \n",
      "(84, 1)(86, 1)(756, 1)(777, 1) (729, 1)(85, 1)\n",
      "\n",
      " (86, 1)\n",
      " (87, 1)\n",
      " \n",
      "  (78, 1)\n",
      "(86, 1)\n",
      "(88, 1) (85, 1)(82, 1)(87, 1) \n",
      "\n",
      "\n",
      "(7742, 1)\n",
      "\n",
      "(7017, 1)  (774, 1)(702, 1)  (78, 1)(87, 1)\n",
      "\n"
     ]
    },
    {
     "name": "stderr",
     "output_type": "stream",
     "text": [
      "\n"
     ]
    },
    {
     "name": "stdout",
     "output_type": "stream",
     "text": [
      "(7854, 1) (785, 1) (88, 1) (7854, 1) (785, 1) (88, 1)\n",
      "(7515, 1) (752, 1) (84, 1) (7515, 1) (752, 1) (84, 1)\n",
      "(7335, 1) (734, 1) (82, 1) (7335, 1) (734, 1) (82, 1)\n",
      "(7649, 1) (765, 1) (85, 1) (7649, 1) (765, 1) (85, 1)\n",
      "(7697, 1) (770, 1) (86, 1) (7697, 1) (770, 1) (86, 1)\n",
      "(7468, 1) (747, 1) (83, 1) (7468, 1) (747, 1) (83, 1)(7651, 1)\n",
      " (765, 1) (86, 1) (7651, 1) (765, 1) (86, 1)\n"
     ]
    }
   ],
   "source": [
    "def run(station):\n",
    "    train_x_, val_x_, test_x_, train_y_, val_y_, test_y_, missing_data_frac = load_and_process_data(station)\n",
    "    # train_val_x_ = np.concatenate([train_x_, val_x_], axis=0)\n",
    "    # train_val_y_ = np.concatenate([train_y_, val_y_], axis=0)\n",
    "    \n",
    "    model = RandomForestRegressor(n_estimators=1000, random_state=seed)\n",
    "    model.fit(train_x_, train_y_.ravel())\n",
    "    pred_y_ = model.predict(test_x_)\n",
    "    \n",
    "    rmse = mean_squared_error(test_y_, pred_y_, squared=False)\n",
    "    return station, rmse, missing_data_frac\n",
    "\n",
    "pool = Pool(32)\n",
    "results = []\n",
    "for station in tqdm(all_stations):\n",
    "    results.append(pool.apply_async(run, args=(station,)))\n",
    "pool.close()\n",
    "pool.join()\n",
    "\n",
    "result_df = pd.DataFrame([r.get() for r in results], columns=[\"station\", \"rmse\", \"missing_data_frac\"]).set_index(\"station\")\n",
    "result_df.to_csv(\"results/temporal_interpolation_RF.csv\")"
   ]
  },
  {
   "attachments": {},
   "cell_type": "markdown",
   "metadata": {},
   "source": [
    "## GB"
   ]
  },
  {
   "cell_type": "code",
   "execution_count": 25,
   "metadata": {},
   "outputs": [
    {
     "name": "stderr",
     "output_type": "stream",
     "text": [
      "100%|██████████| 39/39 [00:00<00:00, 97021.27it/s]"
     ]
    },
    {
     "name": "stdout",
     "output_type": "stream",
     "text": [
      "(7670, 1) (767, 1) (86, 1) (7670, 1) (7555, 1)(7713, 1)(4957, 1)(7696, 1)(7794, 1)(7629, 1)(7742, 1)(7745, 1)(7793, 1)(767, 1)    (4082, 1) (3728, 1)    (7773, 1)(756, 1)(495, 1) (772, 1)(770, 1)(7668, 1)(7326, 1)(763, 1)(7729, 1)(7657, 1)(774, 1) (774, 1)(779, 1) (7512, 1)(7635, 1)(7509, 1)   (7017, 1) (780, 1)(7652, 1)(86, 1) (7311, 1)(7499, 1)      (7661, 1)(408, 1)(6450, 1) (373, 1)    (777, 1)(84, 1)(7712, 1)(56, 1)(86, 1)   (86, 1)\n",
      "(766, 1) (733, 1)(85, 1) (765, 1)(773, 1)(87, 1)  (87, 1) (7835, 1) (7642, 1)(87, 1)(751, 1)(751, 1)(764, 1)    (702, 1) (765, 1) (87, 1) (750, 1) (7713, 1) (7566, 1)  (731, 1)(7293, 1)(46, 1)(766, 1)  (645, 1) (42, 1)    (87, 1) (4957, 1)(7555, 1)(771, 1)(7696, 1)  (7713, 1) (86, 1) (7629, 1)(82, 1)  (86, 1)(86, 1)    (7742, 1) (783, 1) (765, 1)(7793, 1)(7745, 1)(84, 1)(84, 1)    (85, 1) (86, 1)(78, 1) (7794, 1)(84, 1)  (756, 1)(771, 1)  (82, 1)(729, 1)(4082, 1) (72, 1) (86, 1) (3728, 1)     (495, 1)(7773, 1)(86, 1)(756, 1) (770, 1) (772, 1)  (7668, 1) (7326, 1) (763, 1) (7657, 1)    (7729, 1)(774, 1)(88, 1)  (85, 1)(774, 1)(7512, 1)(779, 1) (7509, 1)  (7635, 1)  (7652, 1)(7499, 1) (7017, 1)  (780, 1)  (85, 1)(86, 1)(408, 1)(82, 1)(6450, 1)  (7311, 1) (373, 1)  (7661, 1)  (56, 1)(777, 1)(7712, 1)  (86, 1)  (84, 1)(766, 1) (86, 1)(765, 1)(733, 1) (85, 1)     (87, 1)(7835, 1)  (87, 1)(7642, 1) (87, 1)(751, 1) \n",
      "(773, 1) (751, 1)(764, 1)\n",
      "(750, 1)(765, 1)\n",
      " (702, 1) \n",
      " (87, 1)\n",
      "(46, 1)(7293, 1)(7713, 1)(7566, 1)(645, 1)\n",
      " (42, 1)(731, 1)\n",
      " \n",
      "(87, 1) (766, 1)(771, 1)     (86, 1)(86, 1) (82, 1)\n",
      "\n",
      "    (783, 1)\n",
      "(765, 1)(84, 1)\n",
      "   (86, 1)(84, 1)(85, 1)(84, 1)(86, 1)\n",
      "\n",
      "\n",
      "(78, 1)(729, 1)(771, 1)(72, 1)(756, 1) (82, 1) (86, 1)\n",
      "(86, 1)\n",
      "\n",
      "\n",
      "\n",
      " \n",
      "\n",
      "\n",
      "  (88, 1)\n",
      "(85, 1)\n",
      "\n",
      "(82, 1)(85, 1)(86, 1)\n",
      "\n",
      "\n",
      "\n",
      "\n"
     ]
    },
    {
     "name": "stderr",
     "output_type": "stream",
     "text": [
      "\n"
     ]
    },
    {
     "name": "stdout",
     "output_type": "stream",
     "text": [
      "(7854, 1) (785, 1) (88, 1) (7854, 1) (785, 1) (88, 1)\n",
      "(7515, 1) (752, 1) (84, 1) (7515, 1) (752, 1) (84, 1)\n",
      "(7335, 1) (734, 1) (82, 1) (7335, 1) (734, 1) (82, 1)\n",
      "(7649, 1) (765, 1) (85, 1) (7649, 1) (765, 1) (85, 1)\n",
      "(7697, 1) (770, 1) (86, 1)(7468, 1) (7697, 1)  (747, 1)(770, 1)  (86, 1)(83, 1)\n",
      " (7468, 1) (747, 1) (83, 1)\n",
      "(7651, 1) (765, 1) (86, 1) (7651, 1) (765, 1) (86, 1)\n"
     ]
    }
   ],
   "source": [
    "def run(station):\n",
    "    train_x_, val_x_, test_x_, train_y_, val_y_, test_y_, missing_data_frac = load_and_process_data(station)\n",
    "    # train_val_x_ = np.concatenate([train_x_, val_x_], axis=0)\n",
    "    # train_val_y_ = np.concatenate([train_y_, val_y_], axis=0)\n",
    "    \n",
    "    model = GradientBoostingRegressor(n_estimators=1000, random_state=seed)\n",
    "    model.fit(train_x_, train_y_.ravel())\n",
    "    pred_y_ = model.predict(test_x_)\n",
    "    \n",
    "    rmse = mean_squared_error(test_y_, pred_y_, squared=False)\n",
    "    return station, rmse, missing_data_frac\n",
    "\n",
    "pool = Pool(32)\n",
    "results = []\n",
    "for station in tqdm(all_stations):\n",
    "    results.append(pool.apply_async(run, args=(station,)))\n",
    "pool.close()\n",
    "pool.join()\n",
    "\n",
    "result_df = pd.DataFrame([r.get() for r in results], columns=[\"station\", \"rmse\", \"missing_data_frac\"]).set_index(\"station\")\n",
    "result_df.to_csv(\"results/temporal_interpolation_GB.csv\")"
   ]
  },
  {
   "attachments": {},
   "cell_type": "markdown",
   "metadata": {},
   "source": [
    "## Plotting"
   ]
  },
  {
   "cell_type": "code",
   "execution_count": 26,
   "metadata": {},
   "outputs": [
    {
     "data": {
      "image/png": "[encoded data removed]",
      "text/plain": [
       "<Figure size 1440x360 with 1 Axes>"
      ]
     },
     "metadata": {
      "needs_background": "light"
     },
     "output_type": "display_data"
    }
   ],
   "source": [
    "result_df = pd.DataFrame(index=all_stations)\n",
    "models = [\"SIREN\", \"RF\", \"GB\"]\n",
    "for model in models:\n",
    "    df = pd.read_csv(f\"results/temporal_interpolation_{model}.csv\").set_index(\"station\")\n",
    "    result_df[model] = df[\"rmse\"]\n",
    "\n",
    "# plot the results as bar chart\n",
    "result_df.plot.bar(figsize=(20, 5), rot=0, title=\"Temporal Interpolation RMSE\", ylabel=\"RMSE\");"
   ]
  },
  {
   "cell_type": "code",
   "execution_count": null,
   "metadata": {},
   "outputs": [],
   "source": []
  }
 ],
 "metadata": {
  "kernelspec": {
   "display_name": "jax_gpu",
   "language": "python",
   "name": "python3"
  },
  "language_info": {
   "codemirror_mode": {
    "name": "ipython",
    "version": 3
   },
   "file_extension": ".py",
   "mimetype": "text/x-python",
   "name": "python",
   "nbconvert_exporter": "python",
   "pygments_lexer": "ipython3",
   "version": "3.9.12"
  },
  "orig_nbformat": 4
 },
 "nbformat": 4,
 "nbformat_minor": 2
}
