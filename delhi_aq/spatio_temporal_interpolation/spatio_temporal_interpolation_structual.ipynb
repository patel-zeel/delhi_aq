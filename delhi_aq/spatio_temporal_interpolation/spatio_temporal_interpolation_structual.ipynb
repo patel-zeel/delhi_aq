{
 "cells": [
  {
   "cell_type": "code",
   "execution_count": 83,
   "metadata": {},
   "outputs": [],
   "source": [
    "import os\n",
    "os.environ[\"CUDA_VISIBLE_DEVICES\"] = \"2\"\n",
    "\n",
    "import numpy as np\n",
    "import pandas as pd\n",
    "import xarray as xr\n",
    "\n",
    "import jax\n",
    "import jax.numpy as jnp\n",
    "from jax.flatten_util import ravel_pytree\n",
    "import jax.tree_util as jtu\n",
    "\n",
    "from tqdm import tqdm\n",
    "from sklearn.ensemble import RandomForestRegressor, GradientBoostingRegressor, AdaBoostRegressor\n",
    "from sklearn.model_selection import train_test_split\n",
    "from sklearn.preprocessing import StandardScaler, MinMaxScaler\n",
    "from sklearn.metrics import mean_squared_error\n",
    "\n",
    "from delhi_aq.jax.my_nn import SIREN, fit, NeRF, NeRFPE\n",
    "from delhi_aq.jax.my_utils import pool_image, get_coords_for_image, rmse_fn\n",
    "\n",
    "import matplotlib.pyplot as plt\n",
    "from multiprocessing import Pool"
   ]
  },
  {
   "cell_type": "code",
   "execution_count": 84,
   "metadata": {},
   "outputs": [
    {
     "data": {
      "text/html": [
       "<div>\n",
       "<style scoped>\n",
       "    .dataframe tbody tr th:only-of-type {\n",
       "        vertical-align: middle;\n",
       "    }\n",
       "\n",
       "    .dataframe tbody tr th {\n",
       "        vertical-align: top;\n",
       "    }\n",
       "\n",
       "    .dataframe thead th {\n",
       "        text-align: right;\n",
       "    }\n",
       "</style>\n",
       "<table border=\"1\" class=\"dataframe\">\n",
       "  <thead>\n",
       "    <tr style=\"text-align: right;\">\n",
       "      <th></th>\n",
       "      <th>station</th>\n",
       "      <th>time</th>\n",
       "      <th>From Date</th>\n",
       "      <th>To Date</th>\n",
       "      <th>PM2.5</th>\n",
       "      <th>PM10</th>\n",
       "      <th>NO</th>\n",
       "      <th>NO2</th>\n",
       "      <th>NOx</th>\n",
       "      <th>NH3</th>\n",
       "      <th>...</th>\n",
       "      <th>RH</th>\n",
       "      <th>WS</th>\n",
       "      <th>WD</th>\n",
       "      <th>SR</th>\n",
       "      <th>BP</th>\n",
       "      <th>AT</th>\n",
       "      <th>RF</th>\n",
       "      <th>TOT-RF</th>\n",
       "      <th>latitude</th>\n",
       "      <th>longitude</th>\n",
       "    </tr>\n",
       "    <tr>\n",
       "      <th>time</th>\n",
       "      <th></th>\n",
       "      <th></th>\n",
       "      <th></th>\n",
       "      <th></th>\n",
       "      <th></th>\n",
       "      <th></th>\n",
       "      <th></th>\n",
       "      <th></th>\n",
       "      <th></th>\n",
       "      <th></th>\n",
       "      <th></th>\n",
       "      <th></th>\n",
       "      <th></th>\n",
       "      <th></th>\n",
       "      <th></th>\n",
       "      <th></th>\n",
       "      <th></th>\n",
       "      <th></th>\n",
       "      <th></th>\n",
       "      <th></th>\n",
       "      <th></th>\n",
       "    </tr>\n",
       "  </thead>\n",
       "  <tbody>\n",
       "    <tr>\n",
       "      <th>2022-01-01 00:30:00</th>\n",
       "      <td>Alipur, Delhi - DPCC</td>\n",
       "      <td>1640997000000000000</td>\n",
       "      <td>2022-01-01 00:00:00</td>\n",
       "      <td>2022-01-01 01:00:00</td>\n",
       "      <td>219.5</td>\n",
       "      <td>342.75</td>\n",
       "      <td>94.73</td>\n",
       "      <td>53.95</td>\n",
       "      <td>105.95</td>\n",
       "      <td>3.78</td>\n",
       "      <td>...</td>\n",
       "      <td>79.75</td>\n",
       "      <td>NaN</td>\n",
       "      <td>205.95</td>\n",
       "      <td>4.6</td>\n",
       "      <td>999.1</td>\n",
       "      <td>6.85</td>\n",
       "      <td>0.0</td>\n",
       "      <td>0.0</td>\n",
       "      <td>28.815329</td>\n",
       "      <td>77.15301</td>\n",
       "    </tr>\n",
       "    <tr>\n",
       "      <th>2022-01-01 01:30:00</th>\n",
       "      <td>Alipur, Delhi - DPCC</td>\n",
       "      <td>1641000600000000000</td>\n",
       "      <td>2022-01-01 01:00:00</td>\n",
       "      <td>2022-01-01 02:00:00</td>\n",
       "      <td>224.5</td>\n",
       "      <td>360.25</td>\n",
       "      <td>89.30</td>\n",
       "      <td>44.70</td>\n",
       "      <td>96.60</td>\n",
       "      <td>5.50</td>\n",
       "      <td>...</td>\n",
       "      <td>82.23</td>\n",
       "      <td>NaN</td>\n",
       "      <td>206.05</td>\n",
       "      <td>4.6</td>\n",
       "      <td>998.9</td>\n",
       "      <td>6.72</td>\n",
       "      <td>0.0</td>\n",
       "      <td>0.0</td>\n",
       "      <td>28.815329</td>\n",
       "      <td>77.15301</td>\n",
       "    </tr>\n",
       "  </tbody>\n",
       "</table>\n",
       "<p>2 rows × 25 columns</p>\n",
       "</div>"
      ],
      "text/plain": [
       "                                  station                 time  \\\n",
       "time                                                             \n",
       "2022-01-01 00:30:00  Alipur, Delhi - DPCC  1640997000000000000   \n",
       "2022-01-01 01:30:00  Alipur, Delhi - DPCC  1641000600000000000   \n",
       "\n",
       "                              From Date             To Date  PM2.5    PM10  \\\n",
       "time                                                                         \n",
       "2022-01-01 00:30:00 2022-01-01 00:00:00 2022-01-01 01:00:00  219.5  342.75   \n",
       "2022-01-01 01:30:00 2022-01-01 01:00:00 2022-01-01 02:00:00  224.5  360.25   \n",
       "\n",
       "                        NO    NO2     NOx   NH3  ...     RH  WS      WD   SR  \\\n",
       "time                                             ...                           \n",
       "2022-01-01 00:30:00  94.73  53.95  105.95  3.78  ...  79.75 NaN  205.95  4.6   \n",
       "2022-01-01 01:30:00  89.30  44.70   96.60  5.50  ...  82.23 NaN  206.05  4.6   \n",
       "\n",
       "                        BP    AT   RF  TOT-RF   latitude  longitude  \n",
       "time                                                                 \n",
       "2022-01-01 00:30:00  999.1  6.85  0.0     0.0  28.815329   77.15301  \n",
       "2022-01-01 01:30:00  998.9  6.72  0.0     0.0  28.815329   77.15301  \n",
       "\n",
       "[2 rows x 25 columns]"
      ]
     },
     "execution_count": 84,
     "metadata": {},
     "output_type": "execute_result"
    }
   ],
   "source": [
    "seed = 3\n",
    "config = {\"lr\": 1e-4, \"batch_size\": -1, \"iterations\": 1000}\n",
    "layers = [512]*4\n",
    "activation_scale = 30.0\n",
    "activation = \"gelu\"\n",
    "aq_data = xr.open_dataset(\"../processed_data/delhi_cpcb_2022_cleaned.nc\").to_dataframe().reset_index().set_index(\"time\", drop=False)\n",
    "aq_data['time'] = aq_data['time'].astype(int)\n",
    "aq_data = aq_data.dropna(subset=\"PM2.5\")\n",
    "aq_data.head(2)"
   ]
  },
  {
   "cell_type": "code",
   "execution_count": 85,
   "metadata": {},
   "outputs": [
    {
     "name": "stdout",
     "output_type": "stream",
     "text": [
      "Test stations ['Bawana, Delhi - DPCC']\n",
      "(282630, 3) (25880, 3) (8659, 3) (282630, 1) (25880, 1) (8659, 1)\n"
     ]
    }
   ],
   "source": [
    "all_stations = aq_data['station'].unique()\n",
    "\n",
    "train_val_stations, test_stations = train_test_split(all_stations, test_size=1, random_state=seed+1)\n",
    "train_stations, val_stations = train_test_split(train_val_stations, test_size=3, random_state=seed+2)\n",
    "\n",
    "print(\"Test stations\", test_stations)\n",
    "\n",
    "train_df = aq_data[aq_data['station'].isin(train_stations)]\n",
    "train_x_, train_y_ = train_df[['latitude', 'longitude', \"time\"]].values, train_df[['PM2.5']].values\n",
    "val_df = aq_data[aq_data['station'].isin(val_stations)]\n",
    "val_x_, val_y_ = val_df[['latitude', 'longitude', \"time\"]].values, val_df[['PM2.5']].values\n",
    "test_df = aq_data[aq_data['station'].isin(test_stations)]\n",
    "test_x_, test_y_ = test_df[['latitude', 'longitude', \"time\"]].values, test_df[['PM2.5']].values\n",
    "\n",
    "x_scaler = MinMaxScaler((-1, 1))\n",
    "y_scaler = MinMaxScaler((0, 1))\n",
    "time_scale = 20\n",
    "train_x = x_scaler.fit_transform(train_x_)\n",
    "train_x[:, -1] = train_x[:, -1] * time_scale\n",
    "val_x = x_scaler.transform(val_x_)\n",
    "val_x[:, -1] = val_x[:, -1] * time_scale\n",
    "test_x = x_scaler.transform(test_x_)\n",
    "test_x[:, -1] = test_x[:, -1] * time_scale\n",
    "train_y = y_scaler.fit_transform(train_y_)\n",
    "val_y = y_scaler.transform(val_y_)\n",
    "test_y = y_scaler.transform(test_y_)\n",
    "print(train_x.shape, val_x.shape, test_x.shape, train_y.shape, val_y.shape, test_y.shape)"
   ]
  },
  {
   "cell_type": "code",
   "execution_count": 86,
   "metadata": {},
   "outputs": [],
   "source": [
    "model = SIREN(n_hidden_layer_neurons=layers, output_shape=train_y_.shape[-1], activation_scale=activation_scale)\n",
    "# model = NeRF(n_hidden_layer_neurons=layers, output_shape=train_y_.shape[-1], activation=activation)\n",
    "# model = NeRFPE(n_hidden_layer_neurons=layers, output_shape=train_y_.shape[-1], activation=activation, activation_scale=activation_scale)\n",
    "params, old_params_history, train_losses, val_losses, test_losses = fit(jax.random.PRNGKey(seed+4), model, \n",
    "                                                                        train_x, train_y, config, val_x, val_y, test_x, test_y)"
   ]
  },
  {
   "cell_type": "code",
   "execution_count": 87,
   "metadata": {},
   "outputs": [
    {
     "name": "stdout",
     "output_type": "stream",
     "text": [
      "best_val_idx=Array(31, dtype=int32), val_losses[best_val_idx]*(y_scaler.data_max_ - y_scaler.data_min_)=Array([76.17885], dtype=float32)\n",
      "train_losses[best_val_idx]*(y_scaler.data_max_ - y_scaler.data_min_)=Array([44.966198], dtype=float32)\n",
      "test_losses[best_val_idx]*(y_scaler.data_max_ - y_scaler.data_min_)=Array([135.3796], dtype=float32)\n",
      "(8659, 1) (8659, 1)\n"
     ]
    },
    {
     "data": {
      "text/plain": [
       "135.37959371050619"
      ]
     },
     "execution_count": 87,
     "metadata": {},
     "output_type": "execute_result"
    }
   ],
   "source": [
    "# plt.plot(train_losses, label=\"train\")\n",
    "# plt.plot(val_losses, label=\"val\")\n",
    "# plt.plot(test_losses, label=\"test\")\n",
    "# plt.legend();\n",
    "best_val_idx = jnp.argmin(val_losses)\n",
    "print(f\"{best_val_idx=}, {val_losses[best_val_idx]*(y_scaler.data_max_ - y_scaler.data_min_)=}\")\n",
    "print(f\"{train_losses[best_val_idx]*(y_scaler.data_max_ - y_scaler.data_min_)=}\")\n",
    "print(f\"{test_losses[best_val_idx]*(y_scaler.data_max_ - y_scaler.data_min_)=}\")\n",
    "best_params = jtu.tree_map(lambda x: x[best_val_idx], old_params_history)\n",
    "\n",
    "pred_y = model.apply(best_params, test_x).__array__()\n",
    "pred_y_ = y_scaler.inverse_transform(pred_y)\n",
    "# plt.scatter(test_y_, pred_y_)\n",
    "# plt.plot([0, 500], [0, 500], color=\"r\", linestyle=\"--\");\n",
    "\n",
    "print(pred_y_.shape, test_y_.shape)\n",
    "rmse = rmse_fn(test_y_, pred_y_)\n",
    "rmse"
   ]
  },
  {
   "cell_type": "code",
   "execution_count": 88,
   "metadata": {},
   "outputs": [
    {
     "data": {
      "text/plain": [
       "(3, 35)"
      ]
     },
     "execution_count": 88,
     "metadata": {},
     "output_type": "execute_result"
    }
   ],
   "source": [
    "len(val_stations), len(train_stations)"
   ]
  },
  {
   "attachments": {},
   "cell_type": "markdown",
   "metadata": {},
   "source": [
    "0.02921045"
   ]
  },
  {
   "cell_type": "code",
   "execution_count": 89,
   "metadata": {},
   "outputs": [
    {
     "data": {
      "image/png": "[encoded data removed]",
      "text/plain": [
       "<Figure size 432x288 with 1 Axes>"
      ]
     },
     "metadata": {
      "needs_background": "light"
     },
     "output_type": "display_data"
    }
   ],
   "source": [
    "offset = 10\n",
    "plt.plot(train_losses[offset:], label=\"train\")\n",
    "plt.plot(val_losses[offset:], label=\"val\")\n",
    "plt.plot(test_losses[offset:], label=\"test\")\n",
    "plt.xlabel(\"Epochs\")\n",
    "plt.legend();"
   ]
  },
  {
   "cell_type": "code",
   "execution_count": 79,
   "metadata": {},
   "outputs": [
    {
     "data": {
      "image/png": "[encoded data removed]",
      "text/plain": [
       "<Figure size 432x288 with 1 Axes>"
      ]
     },
     "metadata": {
      "needs_background": "light"
     },
     "output_type": "display_data"
    }
   ],
   "source": [
    "plt.scatter(test_y_, pred_y_);\n",
    "plt.plot([0, 500], [0, 500], color=\"r\", linestyle=\"--\");\n",
    "plt.xlabel(\"True\")\n",
    "plt.ylabel(\"Pred\");"
   ]
  },
  {
   "cell_type": "code",
   "execution_count": 80,
   "metadata": {},
   "outputs": [
    {
     "name": "stdout",
     "output_type": "stream",
     "text": [
      "Train RMSE 9.659245038620865\n",
      "Val RMSE 48.49124286275065\n",
      "Test RMSE 54.727142049642694\n"
     ]
    }
   ],
   "source": [
    "model = RandomForestRegressor(n_estimators=1000, n_jobs=-1, random_state=0)\n",
    "model.fit(train_x_, train_y_.ravel())\n",
    "print(\"Train RMSE\", rmse_fn(train_y_, model.predict(train_x_)))\n",
    "print(\"Val RMSE\", rmse_fn(val_y_, model.predict(val_x_)))\n",
    "print(\"Test RMSE\", rmse_fn(test_y_, model.predict(test_x_)))"
   ]
  },
  {
   "cell_type": "code",
   "execution_count": 81,
   "metadata": {},
   "outputs": [
    {
     "data": {
      "image/png": "[encoded data removed]",
      "text/plain": [
       "<Figure size 432x288 with 1 Axes>"
      ]
     },
     "metadata": {
      "needs_background": "light"
     },
     "output_type": "display_data"
    }
   ],
   "source": [
    "plt.scatter(test_y_, model.predict(test_x_));\n",
    "plt.plot([0, 500], [0, 500], color=\"r\", linestyle=\"--\");\n",
    "plt.xlabel(\"True\")\n",
    "plt.ylabel(\"Pred\");"
   ]
  },
  {
   "attachments": {},
   "cell_type": "markdown",
   "metadata": {},
   "source": [
    "## Manual plot"
   ]
  },
  {
   "cell_type": "code",
   "execution_count": 8,
   "metadata": {},
   "outputs": [
    {
     "data": {
      "image/png": "[encoded data removed]",
      "text/plain": [
       "<Figure size 720x360 with 1 Axes>"
      ]
     },
     "metadata": {
      "needs_background": "light"
     },
     "output_type": "display_data"
    }
   ],
   "source": [
    "results = {\"NN-ReLU\": 66.53, \"NN-GeLU\": 63.13, \"NN-PE-ReLU\": 26.59, \"NN-PE-GeLU\": 28.94, \"SIREN\": 26.06, \"RF\": 26.04}\n",
    "\n",
    "plt.figure(figsize=(10, 5))\n",
    "plt.rcParams[\"font.size\"] = 14\n",
    "plt.bar(results.keys(), results.values());\n",
    "for k, v in results.items():\n",
    "    plt.text(k, v/2, f\"{v:.2f}\", ha=\"center\", va=\"bottom\")"
   ]
  },
  {
   "cell_type": "code",
   "execution_count": 97,
   "metadata": {},
   "outputs": [
    {
     "data": {
      "text/plain": [
       "(Array([1., 1., 1., 0.], dtype=float32, weak_type=True),\n",
       " Array([9., 8., 7., 0.], dtype=float32))"
      ]
     },
     "execution_count": 97,
     "metadata": {},
     "output_type": "execute_result"
    }
   ],
   "source": [
    "def fn(p):\n",
    "    a = p - jnp.array([1, 2, 3.0, jnp.nan])\n",
    "    return jnp.where(jnp.isnan(a), 0, a)\n",
    "\n",
    "jax.jacobian(fn)(10.0), fn(10)"
   ]
  }
 ],
 "metadata": {
  "kernelspec": {
   "display_name": "jax_gpu",
   "language": "python",
   "name": "python3"
  },
  "language_info": {
   "codemirror_mode": {
    "name": "ipython",
    "version": 3
   },
   "file_extension": ".py",
   "mimetype": "text/x-python",
   "name": "python",
   "nbconvert_exporter": "python",
   "pygments_lexer": "ipython3",
   "version": "3.9.12"
  },
  "orig_nbformat": 4
 },
 "nbformat": 4,
 "nbformat_minor": 2
}
